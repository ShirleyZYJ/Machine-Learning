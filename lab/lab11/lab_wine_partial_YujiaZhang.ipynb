{
  "nbformat": 4,
  "nbformat_minor": 0,
  "metadata": {
    "colab": {
      "name": "lab_wine_partial_YujiaZhang.ipynb",
      "version": "0.3.2",
      "provenance": [],
      "collapsed_sections": []
    },
    "language_info": {
      "codemirror_mode": {
        "name": "ipython",
        "version": 3
      },
      "file_extension": ".py",
      "mimetype": "text/x-python",
      "name": "python",
      "nbconvert_exporter": "python",
      "pygments_lexer": "ipython3",
      "version": "3.6.7"
    },
    "kernelspec": {
      "display_name": "Python 3",
      "language": "python",
      "name": "python3"
    }
  },
  "cells": [
    {
      "metadata": {
        "id": "14jw0qqYe-50",
        "colab_type": "text"
      },
      "cell_type": "markdown",
      "source": [
        "# Lab:  Hyper-Parameter Optimization with PCA\n",
        "\n",
        "PCA is often applied as a pre-processing step with classifiers.  When using PCA in this manner, one must select the number of PC components to use along with parameters in classifier.  In this lab, we will demonstrate how to performing this *hyper-parameter optimization*.  In doing the lab, you will learn to:\n",
        "\n",
        "* Combine PCA with data scaling.\n",
        "* Compute and visualize PC components\n",
        "* Select the number of PCs with K-fold cross validation\n",
        "* Implement the multi-stage classifier pipeline in sklearn\n",
        "* Perform automatic parameter search using `GridSearchCV` in combination with a pipeline.\n",
        "\n",
        "We first download the basic packages."
      ]
    },
    {
      "metadata": {
        "id": "4b0vnR-Ye-58",
        "colab_type": "code",
        "colab": {}
      },
      "cell_type": "code",
      "source": [
        "import numpy as np\n",
        "import matplotlib\n",
        "import matplotlib.pyplot as plt"
      ],
      "execution_count": 0,
      "outputs": []
    },
    {
      "metadata": {
        "id": "0nfw8B6ke-6U",
        "colab_type": "text"
      },
      "cell_type": "markdown",
      "source": [
        "## Downloading the Data\n",
        "\n",
        "We will use a very simple `wine` dataset, commonly used in teaching machine learning class.  The problem is to classify the type of red wine from features of the wine such as the `alchohol` and other chemical components.  There are three possible wine types."
      ]
    },
    {
      "metadata": {
        "id": "ge3FPHfEe-6d",
        "colab_type": "code",
        "outputId": "5cf62320-2e53-4e36-e614-f3e8644726ea",
        "colab": {
          "base_uri": "https://localhost:8080/",
          "height": 74
        }
      },
      "cell_type": "code",
      "source": [
        "from sklearn.datasets import load_wine\n",
        "from sklearn.model_selection import KFold\n",
        "data = load_wine()\n",
        "\n",
        "# TODO print the features names in data.feature_names and data.target_names\n",
        "print(data.feature_names)\n",
        "print(data.target_names)"
      ],
      "execution_count": 3,
      "outputs": [
        {
          "output_type": "stream",
          "text": [
            "['alcohol', 'malic_acid', 'ash', 'alcalinity_of_ash', 'magnesium', 'total_phenols', 'flavanoids', 'nonflavanoid_phenols', 'proanthocyanins', 'color_intensity', 'hue', 'od280/od315_of_diluted_wines', 'proline']\n",
            "['class_0' 'class_1' 'class_2']\n"
          ],
          "name": "stdout"
        }
      ]
    },
    {
      "metadata": {
        "id": "3xMaNucNe-6w",
        "colab_type": "text"
      },
      "cell_type": "markdown",
      "source": [
        "Get the data matrix `X` from `data.data` and the target values `y` from `data.target`.  Print the number of samples, number of features and number of classes."
      ]
    },
    {
      "metadata": {
        "id": "Rdhm16are-60",
        "colab_type": "code",
        "outputId": "9ae1e50b-ef13-403d-9f4e-bf6730b64c9b",
        "colab": {
          "base_uri": "https://localhost:8080/",
          "height": 72
        }
      },
      "cell_type": "code",
      "source": [
        "# TODO\n",
        "X = data.data\n",
        "y = data.target\n",
        "\n",
        "n_samples = X.shape[0]\n",
        "n_features = X.shape[1]\n",
        "n_classes = data.target_names.shape[0]\n",
        "print(\"Number of samples   = {0:d}\".format(n_samples))\n",
        "print(\"Number of features  = {0:d}\".format(n_features))\n",
        "print(\"Number of classes   = {0:d}\".format(n_classes))"
      ],
      "execution_count": 4,
      "outputs": [
        {
          "output_type": "stream",
          "text": [
            "Number of samples   = 178\n",
            "Number of features  = 13\n",
            "Number of classes   = 3\n"
          ],
          "name": "stdout"
        }
      ]
    },
    {
      "metadata": {
        "id": "3pf06sEKe-7F",
        "colab_type": "text"
      },
      "cell_type": "markdown",
      "source": [
        "## Perform PCA for Visualization\n",
        "\n",
        "Before performing PCA, you should scale the data matrix to remove the mean and normalize the variance of the different components.  For this purpose, create a `StandardScaling` object `scaling`.  Then `fit` the scaling with the entire data `X`.  Transform the data and let `Xs` be the scaled data."
      ]
    },
    {
      "metadata": {
        "id": "x73J_yTTe-7H",
        "colab_type": "code",
        "colab": {}
      },
      "cell_type": "code",
      "source": [
        "from sklearn.preprocessing import StandardScaler\n",
        "\n",
        "# TODO\n",
        "scaling = StandardScaler()\n",
        "Xs = scaling.fit_transform(X)"
      ],
      "execution_count": 0,
      "outputs": []
    },
    {
      "metadata": {
        "id": "ee3q7GH5e-7Q",
        "colab_type": "text"
      },
      "cell_type": "markdown",
      "source": [
        "Now, fit a PCA on the scaled data matrix `Xs`.  You can use the `sklearn` `PCA` method.  In order that we can visualize the results set `n_components=2`.  Select `svd_solver='randomized'` and `whiten=True`.  Use the the `pca.transform` method to find, `Z`, the coefficients of `Xs` in the PCA basis."
      ]
    },
    {
      "metadata": {
        "id": "zdO7qEs9e-7S",
        "colab_type": "code",
        "colab": {}
      },
      "cell_type": "code",
      "source": [
        "from sklearn.decomposition import PCA\n",
        "\n",
        "# TODO\n",
        "# Construct the PCA object\n",
        "ncomp = 2\n",
        "pca = PCA(n_components=ncomp, svd_solver='randomized', whiten=True)\n",
        "# Fit the PCA components on the entire dataset\n",
        "pca.fit(Xs)\n",
        "Z = pca.transform(Xs)"
      ],
      "execution_count": 0,
      "outputs": []
    },
    {
      "metadata": {
        "id": "PCB81esle-7k",
        "colab_type": "text"
      },
      "cell_type": "markdown",
      "source": [
        "In the transformed basis, each data sample is represented by a two dimensional vector, `Z[i,0], Z[i,1]`.  Plot a scatter plot of the transformed data.  Use different marker colors for the different classes.  If you did everything, you should see that the classes are quite well separated with even two PCs."
      ]
    },
    {
      "metadata": {
        "id": "Ja7dIFjSe-7n",
        "colab_type": "code",
        "outputId": "e3632829-a414-496a-ebc1-cb728575e224",
        "colab": {
          "base_uri": "https://localhost:8080/",
          "height": 299
        }
      },
      "cell_type": "code",
      "source": [
        "# TODO\n",
        "# plt.scatter(Z[:,0],Z[:,1],marker='o',c='r')\n",
        "# plt.show()\n",
        "\n",
        "plt.rcParams.update({'font.size': 10})\n",
        "inx=(y==2)\n",
        "inx=inx.ravel()\n",
        "plt.scatter(Z[inx,0],Z[inx,1],marker='o',color='b') \n",
        "inx=(y==1)\n",
        "inx=inx.ravel()\n",
        "plt.scatter(Z[inx,0],Z[inx,1],marker='o',color='r')  \n",
        "inx=(y==0)\n",
        "inx=inx.ravel()\n",
        "plt.scatter(Z[inx,0],Z[inx,1],marker='o',color='g')    \n",
        "plt.title(\"Training set\")\n",
        "plt.legend()\n",
        "plt.grid()\n",
        "\n",
        "plt.show()"
      ],
      "execution_count": 7,
      "outputs": [
        {
          "output_type": "stream",
          "text": [
            "No handles with labels found to put in legend.\n"
          ],
          "name": "stderr"
        },
        {
          "output_type": "display_data",
          "data": {
            "image/png": "[encoded data removed]",
            "text/plain": [
              "<Figure size 432x288 with 1 Axes>"
            ]
          },
          "metadata": {
            "tags": []
          }
        }
      ]
    },
    {
      "metadata": {
        "id": "tQHAedmke-71",
        "colab_type": "text"
      },
      "cell_type": "markdown",
      "source": [
        "Now, refit the scaled data `Xs` using `n_components=nfeatures` where `nfeatures` is the number of features.  This is the maximum number of PCs.  Get the singular values from `pca.singular_values_` and plot the portion of variation as a function of the number of PCs.   The PoV for using `n` PCs is:\n",
        "\n",
        "    PoV[n]  = \\sum_{i=0}^{n-1}  s[i]**2 / \\sum_{i=0}^{d-1}  s[i]**2\n",
        "    \n",
        "where `s[i]` is the `i`-th singular value and `d` is the number of features.  You should see that the 4 PCs contains more than 70% of the variance."
      ]
    },
    {
      "metadata": {
        "id": "ufe0AZ_9e-75",
        "colab_type": "code",
        "colab": {}
      },
      "cell_type": "code",
      "source": [
        "# TODO\n",
        "# Construct the PCA object\n",
        "pca = PCA(n_components=n_features, svd_solver='randomized', whiten=True)\n",
        "# Fit the PCA components on the entire dataset\n",
        "pca.fit(Xs)\n",
        "Z = pca.transform(Xs)"
      ],
      "execution_count": 0,
      "outputs": []
    },
    {
      "metadata": {
        "id": "PUZ_mEl4FZvA",
        "colab_type": "code",
        "outputId": "485b2f92-1737-4013-c562-244a74b02aeb",
        "colab": {
          "base_uri": "https://localhost:8080/",
          "height": 362
        }
      },
      "cell_type": "code",
      "source": [
        "####################################################################\n",
        "S=pca.singular_values_ \n",
        "print(S)\n",
        "lam = S**2\n",
        "PoV = np.cumsum(lam)/np.sum(lam)\n",
        "Xsn_sample = Xs.shape[1]\n",
        "plt.plot(PoV)\n",
        "plt.grid()\n",
        "plt.axis([1,Xsn_sample,0, 1.1])\n",
        "plt.xlabel('Number of PCs', fontsize=16)\n",
        "plt.ylabel('PoV', fontsize=16)"
      ],
      "execution_count": 10,
      "outputs": [
        {
          "output_type": "stream",
          "text": [
            "[28.94203422 21.08225141 16.04371561 12.78973645 12.32374195 10.68713954\n",
            "  9.90368818  7.8760733   7.17081793  6.6828618   6.33958815  5.48097635\n",
            "  4.28967045]\n"
          ],
          "name": "stdout"
        },
        {
          "output_type": "execute_result",
          "data": {
            "text/plain": [
              "Text(0, 0.5, 'PoV')"
            ]
          },
          "metadata": {
            "tags": []
          },
          "execution_count": 10
        },
        {
          "output_type": "display_data",
          "data": {
            "image/png": "[encoded data removed]",
            "text/plain": [
              "<Figure size 432x288 with 1 Axes>"
            ]
          },
          "metadata": {
            "tags": []
          }
        }
      ]
    },
    {
      "metadata": {
        "id": "QWc3ZYZ-e-8H",
        "colab_type": "text"
      },
      "cell_type": "markdown",
      "source": [
        "## Using PCA with Classification \n",
        "\n",
        "We will now use data scaling and PCA as a pre-processing step for logistic classification.  The number of PCs to use can be found with cross-validation.  Complete the code below which tries different number of PCs components to use and measures the test accuracy for each value."
      ]
    },
    {
      "metadata": {
        "id": "9v1nl16pe-8K",
        "colab_type": "code",
        "outputId": "402aa9ff-db49-439b-9561-735ba9841206",
        "colab": {
          "base_uri": "https://localhost:8080/",
          "height": 940
        }
      },
      "cell_type": "code",
      "source": [
        "from sklearn.preprocessing import StandardScaler\n",
        "from sklearn.linear_model import LogisticRegression\n",
        "nfold = 5\n",
        "\n",
        "# Create a K-fold object\n",
        "kf = KFold(n_splits=nfold)\n",
        "kf.get_n_splits(X)\n",
        "\n",
        "# Number of PCs to try\n",
        "ncomp_test = np.arange(2,12)\n",
        "num_nc = len(ncomp_test)\n",
        "\n",
        "# Accuracy:  acc[icomp,ifold]  is test accuracy when using `ncomp = ncomp_test[icomp]` in fold `ifold`.\n",
        "acc = np.zeros((num_nc,nfold))\n",
        "\n",
        "# Loop over number of components to test\n",
        "for icomp, ncomp in enumerate(ncomp_test):\n",
        "    \n",
        "    # Look over the folds\n",
        "    for ifold, I in enumerate(kf.split(X)):\n",
        "        Itr, Its = I\n",
        "        \n",
        "        # TODO:  Split data into training \n",
        "        Xtr = X[Itr,:]\n",
        "        ytr = y[Itr]\n",
        "        Xts = X[Its,:]\n",
        "        yts = y[Its]\n",
        "\n",
        "        # TODO:  Create a scaling object and fit the scaling on the training data\n",
        "        scaling = StandardScaler()\n",
        "        Xtrs = scaling.fit_transform(Xtr)\n",
        "        \n",
        "        # TODO:  Fit the PCA on the scaled training data\n",
        "        pca = PCA(n_components=ncomp, svd_solver='randomized', whiten=True)\n",
        "        pca.fit(Xtrs)\n",
        "        \n",
        "        # TODO:  Train a classifier on the transformed training data\n",
        "        # Use a logistic regression classifier\n",
        "        Ztr = pca.transform(Xtrs)\n",
        "        logreg = LogisticRegression(multi_class='auto', solver='lbfgs')\n",
        "        logreg.fit(Ztr, ytr)\n",
        "        \n",
        "        # TODO:  Transform the test data through data scaler and PCA\n",
        "        Xtss = scaling.transform(Xts)\n",
        "        Zts = pca.transform(Xtss)\n",
        "         \n",
        "        # TODO:  Predict the labels the test data\n",
        "        yhat = logreg.predict(Zts)\n",
        "        \n",
        "        # TODO:  Measure the accuracy \n",
        "        acc[icomp, ifold] = np.mean(yhat == yts)\n",
        "        print('npc=%d nfold=%d acc=%12.4e' % (ncomp,ifold,acc[icomp, ifold]))\n"
      ],
      "execution_count": 11,
      "outputs": [
        {
          "output_type": "stream",
          "text": [
            "npc=2 nfold=0 acc=  9.1667e-01\n",
            "npc=2 nfold=1 acc=  9.4444e-01\n",
            "npc=2 nfold=2 acc=  8.8889e-01\n",
            "npc=2 nfold=3 acc=  9.1429e-01\n",
            "npc=2 nfold=4 acc=  9.7143e-01\n",
            "npc=3 nfold=0 acc=  8.6111e-01\n",
            "npc=3 nfold=1 acc=  9.4444e-01\n",
            "npc=3 nfold=2 acc=  8.8889e-01\n",
            "npc=3 nfold=3 acc=  9.4286e-01\n",
            "npc=3 nfold=4 acc=  9.7143e-01\n",
            "npc=4 nfold=0 acc=  8.6111e-01\n",
            "npc=4 nfold=1 acc=  9.7222e-01\n",
            "npc=4 nfold=2 acc=  8.8889e-01\n",
            "npc=4 nfold=3 acc=  9.7143e-01\n",
            "npc=4 nfold=4 acc=  9.7143e-01\n",
            "npc=5 nfold=0 acc=  8.6111e-01\n",
            "npc=5 nfold=1 acc=  8.8889e-01\n",
            "npc=5 nfold=2 acc=  9.1667e-01\n",
            "npc=5 nfold=3 acc=  9.7143e-01\n",
            "npc=5 nfold=4 acc=  9.4286e-01\n",
            "npc=6 nfold=0 acc=  9.4444e-01\n",
            "npc=6 nfold=1 acc=  9.1667e-01\n",
            "npc=6 nfold=2 acc=  9.1667e-01\n",
            "npc=6 nfold=3 acc=  9.4286e-01\n",
            "npc=6 nfold=4 acc=  9.4286e-01\n",
            "npc=7 nfold=0 acc=  9.7222e-01\n",
            "npc=7 nfold=1 acc=  9.4444e-01\n",
            "npc=7 nfold=2 acc=  9.1667e-01\n",
            "npc=7 nfold=3 acc=  9.4286e-01\n",
            "npc=7 nfold=4 acc=  9.7143e-01\n",
            "npc=8 nfold=0 acc=  9.7222e-01\n",
            "npc=8 nfold=1 acc=  9.4444e-01\n",
            "npc=8 nfold=2 acc=  9.1667e-01\n",
            "npc=8 nfold=3 acc=  9.4286e-01\n",
            "npc=8 nfold=4 acc=  9.7143e-01\n",
            "npc=9 nfold=0 acc=  9.4444e-01\n",
            "npc=9 nfold=1 acc=  9.1667e-01\n",
            "npc=9 nfold=2 acc=  9.4444e-01\n",
            "npc=9 nfold=3 acc=  9.4286e-01\n",
            "npc=9 nfold=4 acc=  1.0000e+00\n",
            "npc=10 nfold=0 acc=  9.4444e-01\n",
            "npc=10 nfold=1 acc=  8.8889e-01\n",
            "npc=10 nfold=2 acc=  9.1667e-01\n",
            "npc=10 nfold=3 acc=  9.7143e-01\n",
            "npc=10 nfold=4 acc=  1.0000e+00\n",
            "npc=11 nfold=0 acc=  9.7222e-01\n",
            "npc=11 nfold=1 acc=  9.1667e-01\n",
            "npc=11 nfold=2 acc=  9.1667e-01\n",
            "npc=11 nfold=3 acc=  9.7143e-01\n",
            "npc=11 nfold=4 acc=  1.0000e+00\n"
          ],
          "name": "stdout"
        }
      ]
    },
    {
      "metadata": {
        "id": "axdVv4CIe-8e",
        "colab_type": "text"
      },
      "cell_type": "markdown",
      "source": [
        "Use the `plt.errorbar` function to plot the mean accuracy with error bars corresponding to the standard error of the accuracy as a function of the number of components.  Find the optimal number of PCs to use according to the normal rule and one SE rule.  If you did it correctly, you should get an accuracy of around 96%."
      ]
    },
    {
      "metadata": {
        "id": "6Ojgg5GFe-8f",
        "colab_type": "code",
        "outputId": "0556edc5-62b4-4f50-e671-dc900c3aae1e",
        "colab": {
          "base_uri": "https://localhost:8080/",
          "height": 320
        }
      },
      "cell_type": "code",
      "source": [
        "# TODO:\n",
        "acc_mean = np.mean(acc,axis=1)\n",
        "# acc_mean = np.mean(acc)\n",
        "acc_se = np.std(acc,axis=1)/np.sqrt(nfold-1)\n",
        "# acc_se = np.std(acc)/np.sqrt(nfold-1)\n",
        "plt.errorbar(ncomp_test, acc_mean, acc_se)\n",
        "plt.grid()\n",
        "plt.xlabel('Number of PCs')\n",
        "plt.ylabel('Standard error of Accuracy')\n",
        "\n",
        "# TODO:  Optimal order with the normal rule\n",
        "iopt = np.argmax(acc_mean)\n",
        "dopt = ncomp_test[iopt]\n",
        "print('Optimal model order with normal rule = %d' % dopt)\n",
        "\n",
        "# TODO:  Optimal order with one SE rule\n",
        "acc_tgt = acc_mean[iopt] - acc_se[iopt]\n",
        "I = np.where(acc_mean >= acc_tgt)[0]\n",
        "iopt_one_se = I[0]\n",
        "dopt_one_se = ncomp_test[iopt_one_se]\n",
        "print('Optimal model order with one SE rule = %d' % dopt_one_se)"
      ],
      "execution_count": 12,
      "outputs": [
        {
          "output_type": "stream",
          "text": [
            "Optimal model order with normal rule = 11\n",
            "Optimal model order with one SE rule = 7\n"
          ],
          "name": "stdout"
        },
        {
          "output_type": "display_data",
          "data": {
            "image/png": "[encoded data removed]",
            "text/plain": [
              "<Figure size 432x288 with 1 Axes>"
            ]
          },
          "metadata": {
            "tags": []
          }
        }
      ]
    },
    {
      "metadata": {
        "id": "m9JaN6UCe-8p",
        "colab_type": "text"
      },
      "cell_type": "markdown",
      "source": [
        "## Hyper-Parameter Optimization with GridCV.\n",
        "\n",
        "We will now try a more complex classifier -- a support vector classifier with a radial basis function.  When we use such a classifer, there will be a number of parameters to tune.  When the number of parameters to tune becomes large, writing a loop over multiple parameters as we did above becomes cumbersome.  The `sklearn` package has a very nice routine, `GridSearchCV` to perform this sort of parameter search.  \n",
        "\n",
        "Before, we do this we need to create an estimator `Pipeline`.  An estimator pipeline is a sequence of transformations followed by an estimator that will operate on the transformed data.  Create the following pipeline:\n",
        "\n",
        "*  Create a `StandardScaler()` object called `scaler` for the first transformation\n",
        "*  Create a `PCA()` object called `pca` for the second transformation\n",
        "*  Create a `SVC()` object called `svc` for the final SVM classifier.  Set the parameter `kernel='rbf'`.\n",
        "\n",
        "Once you have the three steps defined, you can create the pipeline with the command:\n",
        "    \n",
        "    pipe = Pipeline(steps=[('scaler', scaler), ('pca', pca), ('svc', svc)])"
      ]
    },
    {
      "metadata": {
        "id": "d5Nhf2C4e-8r",
        "colab_type": "code",
        "colab": {
          "base_uri": "https://localhost:8080/",
          "height": 148
        },
        "outputId": "147b9d0e-de85-4c9e-c7e5-5dcde792d295"
      },
      "cell_type": "code",
      "source": [
        "from sklearn.pipeline import Pipeline\n",
        "from sklearn.model_selection import GridSearchCV\n",
        "from sklearn.svm import SVC\n",
        "\n",
        "# TODO\n",
        "scaler = StandardScaler()\n",
        "pca = PCA()\n",
        "svc = SVC()\n",
        "pipe = Pipeline(steps = [('scaler',scaler),('pca',pca),('svc',svc)])\n",
        "print(pipe)"
      ],
      "execution_count": 14,
      "outputs": [
        {
          "output_type": "stream",
          "text": [
            "Pipeline(memory=None,\n",
            "     steps=[('scaler', StandardScaler(copy=True, with_mean=True, with_std=True)), ('pca', PCA(copy=True, iterated_power='auto', n_components=None, random_state=None,\n",
            "  svd_solver='auto', tol=0.0, whiten=False)), ('svc', SVC(C=1.0, cache_size=200, class_weight=None, coef0=0.0,\n",
            "  decision_function_shape='ovr', degree=3, gamma='auto_deprecated',\n",
            "  kernel='rbf', max_iter=-1, probability=False, random_state=None,\n",
            "  shrinking=True, tol=0.001, verbose=False))])\n"
          ],
          "name": "stdout"
        }
      ]
    },
    {
      "metadata": {
        "id": "dyl0lwvCe-80",
        "colab_type": "text"
      },
      "cell_type": "markdown",
      "source": [
        "We next define all the parameters that we want to search over.  Define the following arrays:\n",
        "\n",
        "*  `ncomp_test`:  values from 3 to 10 representing number of PCs to test\n",
        "*  `C_test`:  values of `C` in the SVC to test.  Use `10^{-2}, 10^{-1}, ... ,10^{3}` \n",
        "*  `gam_test`:  values of `gamma` in the SVC to test.  Use `10^{-3}, 10^{-2}, ... ,10^{1}` "
      ]
    },
    {
      "metadata": {
        "id": "IOuTnVu0e-83",
        "colab_type": "code",
        "colab": {}
      },
      "cell_type": "code",
      "source": [
        "# TODO\n",
        "ncomp_test = range(3,11)\n",
        "c_test = [1e-2,1e-1,1,10,1e2,1e3]\n",
        "gam_test = [1e-3,1e-2,1e-1,1,10]"
      ],
      "execution_count": 0,
      "outputs": []
    },
    {
      "metadata": {
        "id": "gDhiQox_e-9D",
        "colab_type": "text"
      },
      "cell_type": "markdown",
      "source": [
        "Next, we create a dictionary `params` of the form:\n",
        "\n",
        "    params =  {'pca__n_components': ncomp_test, 'svc__C' : c_test, ...}\n",
        "    \n",
        "Each key in the dictionary is the of the form `estimator__param` and the value is the values to be tested."
      ]
    },
    {
      "metadata": {
        "id": "Mo87s4nHe-9F",
        "colab_type": "code",
        "colab": {}
      },
      "cell_type": "code",
      "source": [
        "# TODO\n",
        "params = {'pca__n_components':ncomp_test,'svc__C' : c_test,'svc__gamma':gam_test}"
      ],
      "execution_count": 0,
      "outputs": []
    },
    {
      "metadata": {
        "id": "RM-WfDFje-9M",
        "colab_type": "text"
      },
      "cell_type": "markdown",
      "source": [
        "Finally, an object `estimator = GridSearchCV(...)` from  `pipe` and `params`.  Set `cv=5`, `train_score=True` and `iid=False`.  Fit the estimator from the data `X,y`.  Then the estimator will perform the cross-validation over all the parameters.  This may take a minute since we are search over so many parameters."
      ]
    },
    {
      "metadata": {
        "id": "05GBJdF8e-9O",
        "colab_type": "code",
        "colab": {
          "base_uri": "https://localhost:8080/",
          "height": 240
        },
        "outputId": "f7c82521-3d63-4b65-e5c3-4953dbd4026b"
      },
      "cell_type": "code",
      "source": [
        "# TODO\n",
        "estimator = GridSearchCV(pipe,params, cv = 5, iid = False,)\n",
        "estimator.fit(X, y)"
      ],
      "execution_count": 17,
      "outputs": [
        {
          "output_type": "execute_result",
          "data": {
            "text/plain": [
              "GridSearchCV(cv=5, error_score='raise-deprecating',\n",
              "       estimator=Pipeline(memory=None,\n",
              "     steps=[('scaler', StandardScaler(copy=True, with_mean=True, with_std=True)), ('pca', PCA(copy=True, iterated_power='auto', n_components=None, random_state=None,\n",
              "  svd_solver='auto', tol=0.0, whiten=False)), ('svc', SVC(C=1.0, cache_size=200, class_weight=None, coef0=0.0,\n",
              "  decision_function_shape='ovr', degree=3, gamma='auto_deprecated',\n",
              "  kernel='rbf', max_iter=-1, probability=False, random_state=None,\n",
              "  shrinking=True, tol=0.001, verbose=False))]),\n",
              "       fit_params=None, iid=False, n_jobs=None,\n",
              "       param_grid={'pca__n_components': range(3, 11), 'svc__C': [0.01, 0.1, 1, 10, 100.0, 1000.0], 'svc__gamma': [0.001, 0.01, 0.1, 1, 10]},\n",
              "       pre_dispatch='2*n_jobs', refit=True, return_train_score='warn',\n",
              "       scoring=None, verbose=0)"
            ]
          },
          "metadata": {
            "tags": []
          },
          "execution_count": 17
        }
      ]
    },
    {
      "metadata": {
        "id": "TOEsgbgSe-9X",
        "colab_type": "text"
      },
      "cell_type": "markdown",
      "source": [
        "Print the best test score and best parameters.  They are fields in `estimator`.  If you did it correctly, it should be a little higher than the logistic regression (about 0.97 to 0.98 accuracy)."
      ]
    },
    {
      "metadata": {
        "id": "fQ0MSb18e-9c",
        "colab_type": "code",
        "colab": {
          "base_uri": "https://localhost:8080/",
          "height": 35
        },
        "outputId": "929db542-71cd-4d6c-9c00-0a01879510ec"
      },
      "cell_type": "code",
      "source": [
        "# TODO\n",
        "print('best accuracy={0}',format(estimator.best_score_))"
      ],
      "execution_count": 18,
      "outputs": [
        {
          "output_type": "stream",
          "text": [
            "best accuracy={0} 0.978078078078078\n"
          ],
          "name": "stdout"
        }
      ]
    },
    {
      "metadata": {
        "id": "3fcn0HiZe-9p",
        "colab_type": "text"
      },
      "cell_type": "markdown",
      "source": [
        "Finally, you can get the test score for all the parameter choices from \n",
        "\n",
        "    test_score = estimator.cv_results_['mean_test_score']\n",
        "    \n",
        "Use the `imshow` command to plot the mean test score over `gamma` and `C` for the value `n_components=5`."
      ]
    },
    {
      "metadata": {
        "id": "XMmRSBN5aaij",
        "colab_type": "code",
        "colab": {
          "base_uri": "https://localhost:8080/",
          "height": 35
        },
        "outputId": "77a21e3d-c871-4e0c-a96b-1fd408df2edf"
      },
      "cell_type": "code",
      "source": [
        "print('best parameter={0}', format(estimator.best_params_))"
      ],
      "execution_count": 22,
      "outputs": [
        {
          "output_type": "stream",
          "text": [
            "best parameter={0} {'pca__n_components': 5, 'svc__C': 1, 'svc__gamma': 0.1}\n"
          ],
          "name": "stdout"
        }
      ]
    },
    {
      "metadata": {
        "id": "F_J3V5oce-9r",
        "colab_type": "code",
        "colab": {
          "base_uri": "https://localhost:8080/",
          "height": 287
        },
        "outputId": "37b65c32-74ad-4cd2-ac3d-9d270c25f19d"
      },
      "cell_type": "code",
      "source": [
        "# TODO\n",
        "test_score = estimator.cv_results_['mean_test_score'].reshape(8,6,5)\n",
        "P = plt.gca()\n",
        "P.set_xticks(np.arange(0,len(gam_test)))\n",
        "P.set_xticklabels(gam_test)\n",
        "P.set_yticks(np.arange(0,len(c_test)))\n",
        "P.set_yticklabels(c_test)\n",
        "plt.imshow(test_score[2],aspect='auto')\n",
        "plt.colorbar()"
      ],
      "execution_count": 23,
      "outputs": [
        {
          "output_type": "execute_result",
          "data": {
            "text/plain": [
              "<matplotlib.colorbar.Colorbar at 0x7f9505769d68>"
            ]
          },
          "metadata": {
            "tags": []
          },
          "execution_count": 23
        },
        {
          "output_type": "display_data",
          "data": {
            "image/png": "[encoded data removed]",
            "text/plain": [
              "<Figure size 432x288 with 2 Axes>"
            ]
          },
          "metadata": {
            "tags": []
          }
        }
      ]
    },
    {
      "metadata": {
        "id": "LhCvmTNbe-9z",
        "colab_type": "code",
        "colab": {}
      },
      "cell_type": "code",
      "source": [
        ""
      ],
      "execution_count": 0,
      "outputs": []
    },
    {
      "metadata": {
        "id": "yxoem0RMe-95",
        "colab_type": "code",
        "colab": {}
      },
      "cell_type": "code",
      "source": [
        ""
      ],
      "execution_count": 0,
      "outputs": []
    }
  ]
}