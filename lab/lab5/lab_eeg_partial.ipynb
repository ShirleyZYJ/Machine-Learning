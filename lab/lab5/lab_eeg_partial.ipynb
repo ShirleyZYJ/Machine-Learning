{
  "nbformat": 4,
  "nbformat_minor": 0,
  "metadata": {
    "colab": {
      "name": "lab_eeg_partial.ipynb",
      "version": "0.3.2",
      "provenance": [],
      "collapsed_sections": []
    },
    "kernelspec": {
      "display_name": "Python 3",
      "language": "python",
      "name": "python3"
    }
  },
  "cells": [
    {
      "metadata": {
        "id": "2HgZ5TF-x5eT",
        "colab_type": "text"
      },
      "cell_type": "markdown",
      "source": [
        "# Lab:  Source Localization for EEG\n",
        "\n",
        "EEG or [Electroencephalography](https://en.wikipedia.org/wiki/Electroencephalography) is a powerful tool for neuroscientists in understanding brain activity.  In EEG, a patient wears a headset with electrodes that measures voltages at a number of points on the scalp.  These voltages arise from ionic currents within the brain.  A common *inverse problem* is to estimate the which parts of the brain caused the measured response.  Source localization is useful in understanding which parts of the brain are involved in certain tasks.  A key challenge in this inverse problem is that the number of unknowns (possible locations in the brain) is much larger than the number of measurements.  In this lab, we will use LASSO regression on a real EEG dataset to overcome this problem and determine the brain region that is active under an auditory stimulus.\n",
        "\n",
        "In addition to the concepts in the [prostate LASSO demo](./demo_prostate.ipynb) you will learn to:\n",
        "* Represent responses of multi-channel time-series data, such as EEG, using linear models\n",
        "* Perform LASSO and Ridge regression\n",
        "* Select the regularization level via cross-validation\n",
        "* Visually compare the sparsity between the solutions\n",
        "\n",
        "We first download standard packages."
      ]
    },
    {
      "metadata": {
        "id": "FSCRFrtrx5ee",
        "colab_type": "code",
        "colab": {}
      },
      "cell_type": "code",
      "source": [
        "import numpy as np\n",
        "import matplotlib.pyplot as plt\n",
        "import pickle\n",
        "\n",
        "from sklearn.linear_model import Lasso, Ridge, ElasticNet\n",
        "from sklearn.metrics import r2_score\n",
        "from sklearn.model_selection import train_test_split"
      ],
      "execution_count": 0,
      "outputs": []
    },
    {
      "metadata": {
        "id": "JXVB7STbx5ew",
        "colab_type": "text"
      },
      "cell_type": "markdown",
      "source": [
        "## Load the Data\n",
        "\n",
        "The data in this lab is taken from one of the sample datasets in the [MNE website](https://martinos.org/mne/stable/index.html). The sample data is a recording from one subject who experienced some auditory stimulus on the left ear.    \n",
        "\n",
        "The raw data is very large (`1.5G`) and also requires that you install the `mne` python package. To make this lab easier, I have extracted and processed a small section of the data. The following command will download a `pickle` file `eeg_dat.p` to your local machine.  If you do want to create the data yourself, the program to create the data is in this directory in the github repository."
      ]
    },
    {
      "metadata": {
        "id": "PMxasp_Cx5e0",
        "colab_type": "code",
        "outputId": "4cd23bc4-2324-44a8-9753-bbd72ca5e2af",
        "colab": {
          "base_uri": "https://localhost:8080/",
          "height": 54
        }
      },
      "cell_type": "code",
      "source": [
        "fn_src ='https://drive.google.com/uc?export=download&id=1RzQpKONOcXSMxH2ZzOI4iVMiTgD6ttSl'\n",
        "fn_dst ='eeg_dat.p'\n",
        "\n",
        "import os\n",
        "from six.moves import urllib\n",
        "\n",
        "if os.path.isfile(fn_dst):\n",
        "    print('File %s is already downloaded' % fn_dst)\n",
        "else:        \n",
        "    print('Fetching file %s [53MB].  This may take a minute..' % fn_dst)\n",
        "    urllib.request.urlretrieve(fn_src, fn_dst)\n",
        "    print('File %s downloaded' % fn_dst)"
      ],
      "execution_count": 2,
      "outputs": [
        {
          "output_type": "stream",
          "text": [
            "Fetching file eeg_dat.p [53MB].  This may take a minute..\n",
            "File eeg_dat.p downloaded\n"
          ],
          "name": "stdout"
        }
      ]
    },
    {
      "metadata": {
        "id": "yX82MjMaDdBA",
        "colab_type": "text"
      },
      "cell_type": "markdown",
      "source": [
        ""
      ]
    },
    {
      "metadata": {
        "id": "3cXXEV3ax5fI",
        "colab_type": "text"
      },
      "cell_type": "markdown",
      "source": [
        "Now run the following command which will get the data from the `pickle` file."
      ]
    },
    {
      "metadata": {
        "id": "nA1L3fFgx5fM",
        "colab_type": "code",
        "colab": {}
      },
      "cell_type": "code",
      "source": [
        "import pickle\n",
        "fn = 'eeg_dat.p'\n",
        "with open(fn, 'rb') as fp:\n",
        "    [X,Y] = pickle.load(fp)"
      ],
      "execution_count": 0,
      "outputs": []
    },
    {
      "metadata": {
        "id": "cNi2ywktx5fY",
        "colab_type": "text"
      },
      "cell_type": "markdown",
      "source": [
        "To understand the data, there are three key variables:\n",
        "* `nt`    = number of time steps that we measure data\n",
        "* `nchan` = number of channels (i.e. electrodes) measured in each time step\n",
        "* `ncur`  = number of currents in the brain that we want to estimate.  \n",
        "\n",
        "Each current comes from one brain region (called a *voxel*) in either the `x`, `y` or `z` direction.  So,\n",
        "\n",
        "    nvoxels = ncur / 3\n",
        "    \n",
        "The components of the `X` and `Y` matrices are:\n",
        "*  `Y[i,k]` = electric field measurement on channel `i` at time `k`\n",
        "*  `X[i,j]` = sensitivity of channel `i` to current `j`.\n",
        "\n",
        "Using `X.shape` and `Y.shape` compute and print `nt`, `nchan`, `ncur` and `nvoxels`."
      ]
    },
    {
      "metadata": {
        "id": "tZH3h-3nx5fc",
        "colab_type": "code",
        "colab": {
          "base_uri": "https://localhost:8080/",
          "height": 91
        },
        "outputId": "87c5dbd8-a877-4d23-e3a0-f9cef9407431"
      },
      "cell_type": "code",
      "source": [
        "# TODO\n",
        "# nt = ...\n",
        "# ncur = ...\n",
        "# nchan = ...\n",
        "# nvoxels\n",
        "nt = Y.shape[1]\n",
        "nchan, ncur = X.shape \n",
        "nvoxels = ncur/3\n",
        "\n",
        "print('Number of time steps = %d' % nt)\n",
        "print('Number of channels = %d' % nchan)\n",
        "print('Number of currents = %d' % ncur)\n",
        "print('Number of currents in each direction = %d' % nvoxels)"
      ],
      "execution_count": 18,
      "outputs": [
        {
          "output_type": "stream",
          "text": [
            "Number of time steps = 85\n",
            "Number of channels = 305\n",
            "Number of currents = 22494\n",
            "Number of currents in each direction = 7498\n"
          ],
          "name": "stdout"
        }
      ]
    },
    {
      "metadata": {
        "id": "krGWorU2x5fk",
        "colab_type": "text"
      },
      "cell_type": "markdown",
      "source": [
        "## Ridge Regression\n",
        "\n",
        "Our goal is to estimate the currents in the brain from the measurements `Y`.  One simple linear model is:\n",
        "\n",
        "    Y[i,k]  = \\sum_j X[i,j]*W[j,k]+ b[k]\n",
        "\n",
        "where `W[j,k]` is the value of current `j` at time `k` and `b[k]` is a bias.  We can solve for the current matrix `W` via linear regression.  \n",
        "\n",
        "Howeever, there is a problem:\n",
        "*  There are `nt x ncur` unknowns in `W`\n",
        "*  There are only `nt x nchan` measurements in `Y`.\n",
        "\n",
        "In this problem, we have:\n",
        "\n",
        "    number of measurements  << number of unknowns\n",
        "    \n",
        "We need to use regularization in these circumstances.  We first try Ridge regression.\n",
        "\n",
        "First split the data into training and test.  Use the `train_test_split` function with `test_size=0.33`."
      ]
    },
    {
      "metadata": {
        "id": "3BAfXdbDx5fn",
        "colab_type": "code",
        "colab": {}
      },
      "cell_type": "code",
      "source": [
        "# TODO\n",
        "# Xtr,Xts,Ytr,Yts = train_test_split(...) \n",
        "Xtr,Xts,Ytr,Yts = train_test_split(X, Y, test_size=0.33) "
      ],
      "execution_count": 0,
      "outputs": []
    },
    {
      "metadata": {
        "id": "xtDnRbD-x5f2",
        "colab_type": "text"
      },
      "cell_type": "markdown",
      "source": [
        "Use the `Ridge` regression object in `sklearn` to fit the model on the training data.  Use a regularization, `alpha=1`."
      ]
    },
    {
      "metadata": {
        "id": "KCnQWT9yx5f7",
        "colab_type": "code",
        "colab": {}
      },
      "cell_type": "code",
      "source": [
        "# TODO\n",
        "regr = Ridge(alpha=1)"
      ],
      "execution_count": 0,
      "outputs": []
    },
    {
      "metadata": {
        "id": "8NxE1VLRx5gK",
        "colab_type": "text"
      },
      "cell_type": "markdown",
      "source": [
        "Preict the values `Y` on both the training and test data.  Use the `r2_score` method to measure the `R^2` value on both the training and test.  You will see that `R^2` value is large for the training data, it is very low for the test data.  This suggest that even with regularization, the model is over-fitting the data."
      ]
    },
    {
      "metadata": {
        "id": "FnlYvIXqx5gO",
        "colab_type": "code",
        "colab": {}
      },
      "cell_type": "code",
      "source": [
        "# TODO\n",
        "# rsq_tr = ...\n",
        "# rsq_ts = ...\n",
        "regr.fit(Xtr, Ytr)\n",
        "Ytr_hat = regr.predict(Xtr)\n",
        "Yts_hat = regr.predict(Xts)\n",
        "rsq_tr = r2_score(Ytr, Ytr_hat)\n",
        "rsq_ts = r2_score(Yts, Yts_hat)"
      ],
      "execution_count": 0,
      "outputs": []
    },
    {
      "metadata": {
        "id": "aapAfW51Q0XM",
        "colab_type": "code",
        "colab": {
          "base_uri": "https://localhost:8080/",
          "height": 35
        },
        "outputId": "9cf47a34-3aa3-4339-eaef-d51717efa494"
      },
      "cell_type": "code",
      "source": [
        "print(rsq_tr,rsq_ts)"
      ],
      "execution_count": 44,
      "outputs": [
        {
          "output_type": "stream",
          "text": [
            "0.6005423142266852 0.15938505840303696\n"
          ],
          "name": "stdout"
        }
      ]
    },
    {
      "metadata": {
        "id": "HZmGnW9ux5gm",
        "colab_type": "text"
      },
      "cell_type": "markdown",
      "source": [
        "Next, try to see if we can get a better `R^2` score using different values of `alpha`.  Use cross-validation to measure the test `R^2` for 20 `alpha` values logarithmically spaced from `10^{-2}` to `10^{2}` (use `np.logspace()`).  You can use regular cross-validation.  You do not need to do `K`-fold."
      ]
    },
    {
      "metadata": {
        "id": "3ugPpmFHx5gn",
        "colab_type": "code",
        "colab": {}
      },
      "cell_type": "code",
      "source": [
        "# TODO\n",
        "nalpha = 20\n",
        "alphas = np.logspace(-2,2,nalpha)\n",
        "Rsqs_tr = np.zeros(nalpha)\n",
        "Rsqs_ts = np.zeros(nalpha)\n",
        "for i in range(nalpha):\n",
        "  regr = Ridge(alpha = alphas[i])\n",
        "  regr.fit(Xtr, Ytr)\n",
        "  Ytr_hat = regr.predict(Xtr) \n",
        "  Yts_hat = regr.predict(Xts)\n",
        "  rsq_tr = r2_score(Ytr, Ytr_hat)\n",
        "  rsq_ts = r2_score(Yts, Yts_hat)\n",
        "  Rsqs_tr[i] = rsq_tr\n",
        "  Rsqs_ts[i] = rsq_ts"
      ],
      "execution_count": 0,
      "outputs": []
    },
    {
      "metadata": {
        "id": "NwOaN3ZRx5gu",
        "colab_type": "text"
      },
      "cell_type": "markdown",
      "source": [
        "Plot the test `R^2` vs. `alpha`.  And print the maximum test `R^2`.  You should see that the maximum test `R^2` is still not very high."
      ]
    },
    {
      "metadata": {
        "id": "j6HabB1yx5g1",
        "colab_type": "code",
        "colab": {
          "base_uri": "https://localhost:8080/",
          "height": 383
        },
        "outputId": "869e6507-a4a3-437a-ac24-e099dd7ec12b"
      },
      "cell_type": "code",
      "source": [
        "# TODO\n",
        "#plt.plot(alphas, Rsqs_ts)\n",
        "plt.semilogx(alphas, Rsqs_ts)\n",
        "imax = np.argmax(Rsqs_ts)\n",
        "max_R2 = Rsqs_ts[imax]\n",
        "plt.xlabel('alpha')\n",
        "plt.ylabel('R^2')\n",
        "print('The maximum test R^2 is %f' % max_R2)"
      ],
      "execution_count": 46,
      "outputs": [
        {
          "output_type": "stream",
          "text": [
            "The maximum test R^2 is 0.188876\n"
          ],
          "name": "stdout"
        },
        {
          "output_type": "display_data",
          "data": {
            "image/png": "[encoded data removed]",
            "text/plain": [
              "<Figure size 576x396 with 1 Axes>"
            ]
          },
          "metadata": {
            "tags": []
          }
        }
      ]
    },
    {
      "metadata": {
        "id": "jsgDiNCJx5g7",
        "colab_type": "text"
      },
      "cell_type": "markdown",
      "source": [
        "Now, let's take a look at the solution. \n",
        "\n",
        "* Find the optimal regularization `alpha` from the cross-validation\n",
        "* Re-fit the model at the optimal `alpha`\n",
        "* Get the current matrix `W` from the coefficients in the linear model.  These are stored in `regr.coef_`.  You may need a transpose\n",
        "* For each current `j` compute `Wrms[j] =  sqrt( sum_k W[j,k]**2 )` which is root mean squared current.\n",
        "\n",
        "You will see that the vector `Wrms` is not sparse.  This means that the solution that is found with Ridge regression finds currents in all locations."
      ]
    },
    {
      "metadata": {
        "id": "Q3DJeOswx5g9",
        "colab_type": "code",
        "colab": {}
      },
      "cell_type": "code",
      "source": [
        "# TODO\n",
        "regr = Ridge(alpha = alphas[imax])\n",
        "regr.fit(Xtr, Ytr)\n",
        "W=regr.coef_.transpose()\n",
        "Wrms = np.sqrt(np.sum(W**2,axis = 1))"
      ],
      "execution_count": 0,
      "outputs": []
    },
    {
      "metadata": {
        "id": "LHQsQo0CVaJo",
        "colab_type": "code",
        "colab": {
          "base_uri": "https://localhost:8080/",
          "height": 35
        },
        "outputId": "3f0c5c3d-958e-4ca8-a6ad-32f9cbe1214b"
      },
      "cell_type": "code",
      "source": [
        "print(Wrms)"
      ],
      "execution_count": 48,
      "outputs": [
        {
          "output_type": "stream",
          "text": [
            "[0.30001905 0.09209378 0.11041574 ... 0.02947074 0.03669715 0.0723707 ]\n"
          ],
          "name": "stdout"
        }
      ]
    },
    {
      "metadata": {
        "id": "2mCAeNc1x5hN",
        "colab_type": "text"
      },
      "cell_type": "markdown",
      "source": [
        "## LASSO Regression\n",
        "\n",
        "We can improve the estimate by imposing sparsity.  Biologically, we know that only a limited number of brain regions should be involved in the reponse to a particular stimuli.  As a result, we would expect that the current matrix `W[j,k]` to be zero for most values `j,k`.  We can impose this constraint using LASSO regularization.\n",
        "\n",
        "Re-fit the training data using the `Lasso` model with `alpha=1e-3`.  Also set `max_iter=100` and `tol=0.01`.  The LASSO solver is much slower, so this make take a minute."
      ]
    },
    {
      "metadata": {
        "id": "0PtD6sH5x5hV",
        "colab_type": "code",
        "colab": {
          "base_uri": "https://localhost:8080/",
          "height": 72
        },
        "outputId": "bcd36554-f63e-4ef7-d0ba-777531ce65f0"
      },
      "cell_type": "code",
      "source": [
        "# TODO\n",
        "model = Lasso(alpha = 1e-3, max_iter=100, tol=0.01)\n",
        "model.fit(Xtr, Ytr)"
      ],
      "execution_count": 49,
      "outputs": [
        {
          "output_type": "execute_result",
          "data": {
            "text/plain": [
              "Lasso(alpha=0.001, copy_X=True, fit_intercept=True, max_iter=100,\n",
              "   normalize=False, positive=False, precompute=False, random_state=None,\n",
              "   selection='cyclic', tol=0.01, warm_start=False)"
            ]
          },
          "metadata": {
            "tags": []
          },
          "execution_count": 49
        }
      ]
    },
    {
      "metadata": {
        "id": "dzBMkKyYx5hc",
        "colab_type": "text"
      },
      "cell_type": "markdown",
      "source": [
        "Now, test the model on the test data and measure the `R^2` value.  You should get a much better fit than with the Ridge regression solution.  "
      ]
    },
    {
      "metadata": {
        "id": "F-KnUhy2x5hd",
        "colab_type": "code",
        "colab": {}
      },
      "cell_type": "code",
      "source": [
        "# TODO\n",
        "Yts_lasso_hat = model.predict(Xts)\n",
        "rsq_lasso = r2_score(Yts, Yts_lasso_hat)"
      ],
      "execution_count": 0,
      "outputs": []
    },
    {
      "metadata": {
        "id": "_3gxcP12WZTl",
        "colab_type": "code",
        "colab": {
          "base_uri": "https://localhost:8080/",
          "height": 35
        },
        "outputId": "d466f07c-1faa-41bc-aecc-f50bf3c18d27"
      },
      "cell_type": "code",
      "source": [
        "print(rsq_lasso)"
      ],
      "execution_count": 51,
      "outputs": [
        {
          "output_type": "stream",
          "text": [
            "0.1859189320317698\n"
          ],
          "name": "stdout"
        }
      ]
    },
    {
      "metadata": {
        "id": "dMx79zMJx5hj",
        "colab_type": "text"
      },
      "cell_type": "markdown",
      "source": [
        "We can now search for the optimal `alpha`.  Use cross-validation to find the `alpha` logarithically space between `alpha=10^{-3}` and `alpha=10^{-4}`.  Each fit takes some time, so use only 5 values of `alpha`. Also for each `alpha` store the current matrix.  This way, you will not have to re-fit the model."
      ]
    },
    {
      "metadata": {
        "id": "14eKJfATx5hu",
        "colab_type": "code",
        "colab": {}
      },
      "cell_type": "code",
      "source": [
        "# TODO\n",
        "nalpha = 5\n",
        "alpha_test = np.logspace(-3,-4,nalpha)\n",
        "Rsqs_ts = np.zeros(nalpha)\n",
        "for i in range(nalpha):\n",
        "  model = Lasso(alpha = alpha_test[i], max_iter=100, tol=0.01)\n",
        "  model.fit(Xtr, Ytr)\n",
        "  Yts_lasso_hat = model.predict(Xts)\n",
        "  rsq_ts = r2_score(Yts, Yts_lasso_hat)\n",
        "  Rsqs_ts[i] = rsq_ts"
      ],
      "execution_count": 0,
      "outputs": []
    },
    {
      "metadata": {
        "id": "WM_Hg5pDx5iH",
        "colab_type": "text"
      },
      "cell_type": "markdown",
      "source": [
        "Plot the `r^2` value vs. `alpha`.  Print the optimal `r^2`.  You should see it is much higher than with the best Ridge Regression case."
      ]
    },
    {
      "metadata": {
        "id": "rh8w4E9px5iJ",
        "colab_type": "code",
        "colab": {
          "base_uri": "https://localhost:8080/",
          "height": 383
        },
        "outputId": "da95a80e-30cf-488b-e09a-953366aac577"
      },
      "cell_type": "code",
      "source": [
        "# TODO\n",
        "plt.semilogx(alpha_test, Rsqs_ts)\n",
        "imax = np.argmax(Rsqs_ts)\n",
        "max_R2 = Rsqs_ts[imax]\n",
        "plt.xlabel('alpha')\n",
        "plt.ylabel('R^2')\n",
        "print('The maximum test R^2 is %f' % max_R2)"
      ],
      "execution_count": 54,
      "outputs": [
        {
          "output_type": "stream",
          "text": [
            "The maximum test R^2 is 0.347370\n"
          ],
          "name": "stdout"
        },
        {
          "output_type": "display_data",
          "data": {
            "image/png": "[encoded data removed]",
            "text/plain": [
              "<Figure size 576x396 with 1 Axes>"
            ]
          },
          "metadata": {
            "tags": []
          }
        }
      ]
    },
    {
      "metadata": {
        "id": "GEdO4h-mx5iO",
        "colab_type": "text"
      },
      "cell_type": "markdown",
      "source": [
        "Display the current matrix `W` for the optimal `alpha` as you did in the Ridge Regression case.  You will see that is much sparser."
      ]
    },
    {
      "metadata": {
        "id": "fnlDZDKRx5iS",
        "colab_type": "code",
        "colab": {
          "base_uri": "https://localhost:8080/",
          "height": 257
        },
        "outputId": "ddf53443-47ea-4695-da30-f299eab539e0"
      },
      "cell_type": "code",
      "source": [
        "# TODO\n",
        "regr = Ridge(alpha = alphas[imax])\n",
        "model = Lasso(alpha = alpha_test[imax])\n",
        "regr.fit(Xtr, Ytr)\n",
        "W=regr.coef_.transpose()\n",
        "print(W)"
      ],
      "execution_count": 55,
      "outputs": [
        {
          "output_type": "stream",
          "text": [
            "[[ 0.11350124  0.12457027  0.12892413 ...  0.20362584  0.21280747\n",
            "   0.21528146]\n",
            " [-0.01926097 -0.01236262 -0.00090705 ...  0.06710777  0.07795587\n",
            "   0.08334024]\n",
            " [-0.01975422 -0.00521749  0.01351267 ...  0.09131487  0.10619087\n",
            "   0.11394933]\n",
            " ...\n",
            " [-0.01478995 -0.01583109 -0.01621182 ... -0.00918534 -0.00845656\n",
            "  -0.00745017]\n",
            " [ 0.02517599  0.02597995  0.02549912 ...  0.01343698  0.01254055\n",
            "   0.011884  ]\n",
            " [-0.00537376 -0.00450374 -0.00296237 ... -0.00862098 -0.00804198\n",
            "  -0.00829951]]\n"
          ],
          "name": "stdout"
        }
      ]
    },
    {
      "metadata": {
        "id": "UhPM-v-bx5ig",
        "colab_type": "text"
      },
      "cell_type": "markdown",
      "source": [
        "## More fun\n",
        "\n",
        "If you want to more on this lab:\n",
        "* Install the [MNE python package](https://martinos.org/mne/stable/index.html).  This is an amazing package with many tools for processing EEG data.\n",
        "* In particular, you can use the above results to visualize where in the brain the currents sources are.\n",
        "* You can also improve the fitting with more regularization.  For example, we know that the currents will be non-zero in groups:  If the current is non-zero for one time, it is likely to non-zero for all time.  You can use the Group LASSO method.\n",
        "* You can combine these results to make predictions about what the patient is seeing or hearing or thinking."
      ]
    },
    {
      "metadata": {
        "id": "3quHoXz0x5il",
        "colab_type": "code",
        "colab": {}
      },
      "cell_type": "code",
      "source": [
        ""
      ],
      "execution_count": 0,
      "outputs": []
    }
  ]
}