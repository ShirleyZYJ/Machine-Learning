{
  "nbformat": 4,
  "nbformat_minor": 0,
  "metadata": {
    "colab": {
      "name": "lab_nlls_partial_YujiaZhang.ipynb",
      "version": "0.3.2",
      "provenance": [],
      "collapsed_sections": []
    },
    "kernelspec": {
      "display_name": "Python 3",
      "language": "python",
      "name": "python3"
    }
  },
  "cells": [
    {
      "metadata": {
        "id": "qRLrMviSdZHk",
        "colab_type": "text"
      },
      "cell_type": "markdown",
      "source": [
        "# Lab:  Nonlinear Least Squares for Modeling Materials\n",
        "\n",
        "In this lab, we will explore gradient descent on nonlinear least squares.  Suppose we wish to fit a model of the form,\n",
        "\n",
        "     yhat = f(x,w)\n",
        "     \n",
        "where `w` is a vector of paramters and `x` is the vector of predictors.  In nonlinear least squares, we find `w` by minimizing a least-squares function \n",
        "\n",
        "     J(w) = \\sum_i (y_i - f(x_i,w))^2\n",
        "     \n",
        "where the summation is over training samples `(x_i,y_i)`.  In general, this optimization has no closed-form expression.  So gradient descent is widely used.  \n",
        "\n",
        "In this lab, we will implement gradient descent on nonlinear least squares in physical modeling of materials.  Specifically, e we will estimate parameters for expansion of copper as a function of temperature.  In doing this lab, you will learn to:\n",
        "* Set up a nonlinear least squares as an unconstrained optimization function\n",
        "* Compute initial parameter estimates for a simple rational model\n",
        "* Compute the gradients of the least squares objective\n",
        "* Implement gradient descent for minimizing the objective\n",
        "* Implement momentum gradient descent\n",
        "* Visualize the convergence of the algorithm\n",
        "\n",
        "We first import some key packages."
      ]
    },
    {
      "metadata": {
        "id": "UXttU4uSdZHv",
        "colab_type": "code",
        "colab": {}
      },
      "cell_type": "code",
      "source": [
        "import pandas as pd\n",
        "import numpy as np\n",
        "import matplotlib.pyplot as plt\n",
        "from sklearn.linear_model import Ridge, LinearRegression"
      ],
      "execution_count": 0,
      "outputs": []
    },
    {
      "metadata": {
        "id": "3pi_HsmOdZIA",
        "colab_type": "text"
      },
      "cell_type": "markdown",
      "source": [
        "## Load the Data\n",
        "\n",
        "The NIST agency has an excellent [nonlinear regression website](https://www.itl.nist.gov/div898/strd/nls/nls_main.shtml) that has several datasets for trying nonlinear regression problem.  In this lab, we will use the data from a NIST study involving the thermal expansion of copper. The response variable is the coefficient of thermal expansion, and the predictor variable is temperature in degrees kelvin.  \n",
        "\n",
        "> Hahn, T., NIST (1979), Copper Thermal Expansion Study.  (unpublished}\n",
        "\n",
        "You can download the data as follows."
      ]
    },
    {
      "metadata": {
        "id": "9xsSTdI0dZID",
        "colab_type": "code",
        "outputId": "d40f0613-1258-4c09-cc49-f1d7a270617d",
        "colab": {
          "base_uri": "https://localhost:8080/",
          "height": 206
        }
      },
      "cell_type": "code",
      "source": [
        "url = 'https://itl.nist.gov/div898/strd/nls/data/LINKS/DATA/Hahn1.dat'\n",
        "df = pd.read_csv(url, skiprows=60, sep=' ',skipinitialspace=True, names=['x0','y0','dummy'])\n",
        "df.head()"
      ],
      "execution_count": 2,
      "outputs": [
        {
          "output_type": "execute_result",
          "data": {
            "text/html": [
              "<div>\n",
              "<style scoped>\n",
              "    .dataframe tbody tr th:only-of-type {\n",
              "        vertical-align: middle;\n",
              "    }\n",
              "\n",
              "    .dataframe tbody tr th {\n",
              "        vertical-align: top;\n",
              "    }\n",
              "\n",
              "    .dataframe thead th {\n",
              "        text-align: right;\n",
              "    }\n",
              "</style>\n",
              "<table border=\"1\" class=\"dataframe\">\n",
              "  <thead>\n",
              "    <tr style=\"text-align: right;\">\n",
              "      <th></th>\n",
              "      <th>x0</th>\n",
              "      <th>y0</th>\n",
              "      <th>dummy</th>\n",
              "    </tr>\n",
              "  </thead>\n",
              "  <tbody>\n",
              "    <tr>\n",
              "      <th>0</th>\n",
              "      <td>0.591</td>\n",
              "      <td>24.41</td>\n",
              "      <td>NaN</td>\n",
              "    </tr>\n",
              "    <tr>\n",
              "      <th>1</th>\n",
              "      <td>1.547</td>\n",
              "      <td>34.82</td>\n",
              "      <td>NaN</td>\n",
              "    </tr>\n",
              "    <tr>\n",
              "      <th>2</th>\n",
              "      <td>2.902</td>\n",
              "      <td>44.09</td>\n",
              "      <td>NaN</td>\n",
              "    </tr>\n",
              "    <tr>\n",
              "      <th>3</th>\n",
              "      <td>2.894</td>\n",
              "      <td>45.07</td>\n",
              "      <td>NaN</td>\n",
              "    </tr>\n",
              "    <tr>\n",
              "      <th>4</th>\n",
              "      <td>4.703</td>\n",
              "      <td>54.98</td>\n",
              "      <td>NaN</td>\n",
              "    </tr>\n",
              "  </tbody>\n",
              "</table>\n",
              "</div>"
            ],
            "text/plain": [
              "      x0     y0  dummy\n",
              "0  0.591  24.41    NaN\n",
              "1  1.547  34.82    NaN\n",
              "2  2.902  44.09    NaN\n",
              "3  2.894  45.07    NaN\n",
              "4  4.703  54.98    NaN"
            ]
          },
          "metadata": {
            "tags": []
          },
          "execution_count": 2
        }
      ]
    },
    {
      "metadata": {
        "id": "U-6v1qPBdZIX",
        "colab_type": "text"
      },
      "cell_type": "markdown",
      "source": [
        "Extract the `x0` and `y0` into arrays.  Rescale, `x0` and `y0` to values between `0` and `1` by dividing `x0` and `y0` by the maximum value.  Store the scaled values in vectors `x` and `y`.  The rescaling will help with the conditioning of the fitting.  Plot, `y` vs. `x`. "
      ]
    },
    {
      "metadata": {
        "id": "ZAMeM-7vdZIe",
        "colab_type": "code",
        "colab": {
          "base_uri": "https://localhost:8080/",
          "height": 347
        },
        "outputId": "93fc4fb2-abae-46a6-cee1-6432b5c1fe2f"
      },
      "cell_type": "code",
      "source": [
        "# TODO\n",
        "x0 = np.array(df['x0'])\n",
        "y0 = np.array(df['y0'])\n",
        "x = x0/np.max(x0)\n",
        "y = y0/np.max(y0)\n",
        "plt.plot(x,y,'o')\n",
        "plt.grid()\n",
        "plt.show()"
      ],
      "execution_count": 3,
      "outputs": [
        {
          "output_type": "display_data",
          "data": {
            "image/png": "[encoded data removed]",
            "text/plain": [
              "<Figure size 576x396 with 1 Axes>"
            ]
          },
          "metadata": {
            "tags": []
          }
        }
      ]
    },
    {
      "metadata": {
        "id": "PO5S-7h9dZIl",
        "colab_type": "text"
      },
      "cell_type": "markdown",
      "source": [
        "To make the problem a little more challenging, we will add some noise.  Add random Gaussian noise with mean 0 and std. dev = 0.05 to `y`.  Store the noisy results in `yn`. You can use the `np.random.normal()` function to add Gaussian noise. Plot `yn` vs. `x`."
      ]
    },
    {
      "metadata": {
        "id": "iuOmkMdWdZIo",
        "colab_type": "code",
        "colab": {
          "base_uri": "https://localhost:8080/",
          "height": 347
        },
        "outputId": "5b2f3ee8-7e61-46af-f393-a3b599744495"
      },
      "cell_type": "code",
      "source": [
        "# TODO\n",
        "yn = y + np.random.normal(loc=0.0, scale=0.05, size=y.shape[0])\n",
        "plt.scatter(x,yn)\n",
        "plt.show()"
      ],
      "execution_count": 4,
      "outputs": [
        {
          "output_type": "display_data",
          "data": {
            "image/png": "[encoded data removed]",
            "text/plain": [
              "<Figure size 576x396 with 1 Axes>"
            ]
          },
          "metadata": {
            "tags": []
          }
        }
      ]
    },
    {
      "metadata": {
        "id": "pt6Izt4CdZIz",
        "colab_type": "text"
      },
      "cell_type": "markdown",
      "source": [
        "Split the data `(x,yn)` into training and test.  Let `xtr,ytr` be training data and `xts,yts` be the test data.  You can use the `train_test_split` function.  Set `test_size=0.33` so that 1/3 of the samples are held out for test."
      ]
    },
    {
      "metadata": {
        "id": "zg9jpyfGdZI2",
        "colab_type": "code",
        "colab": {
          "base_uri": "https://localhost:8080/",
          "height": 35
        },
        "outputId": "a5c33044-4366-4ebd-f2a5-bc7524195fbf"
      },
      "cell_type": "code",
      "source": [
        "from sklearn.model_selection import train_test_split\n",
        "\n",
        "# TODO\n",
        "xtr, xts, ytr, yts = train_test_split( x, yn, test_size=0.33, shuffle=False)\n",
        "print(yn.shape)"
      ],
      "execution_count": 5,
      "outputs": [
        {
          "output_type": "stream",
          "text": [
            "(236,)\n"
          ],
          "name": "stdout"
        }
      ]
    },
    {
      "metadata": {
        "id": "upUOm1TidZJK",
        "colab_type": "text"
      },
      "cell_type": "markdown",
      "source": [
        "## Initial Fit for a Rational Model\n",
        "\n",
        "The [NIST website](https://www.itl.nist.gov/div898/strd/nls/data/hahn1.shtml) suggests using a *rational* model of the form,\n",
        "\n",
        "      yhat = (a[0] + a[1]*x + ... + a[d]*x^d)/(1 + b[0]*x + ... + b[d-1]*x^d)\n",
        "      \n",
        "with `d=3`.  The model parameters are `w = [a[0],...,a[d],b[0],...,b[d-1]]` so there are `2d+1` parameters total.    Complete the function below that takes vectors `w` and `x` and predicts a set of values `yhat` using the above model.\n",
        "   "
      ]
    },
    {
      "metadata": {
        "id": "HLTw9B18dZJT",
        "colab_type": "code",
        "colab": {}
      },
      "cell_type": "code",
      "source": [
        "def predict(w,x):\n",
        "    \n",
        "  # Get the length\n",
        "  d = (len(w)-1)//2\n",
        "  # TODO. Extract a and b from w\n",
        "  a = w[0:d+1]\n",
        "  b = w[d+1:2*d+1]\n",
        "  # TODO. Compute yhat. You may use the np.polyval function\n",
        "  # But, remember you must flip the order the a and b\n",
        "  yhat = (np.polyval(a[::-1],x))/(1+x*np.polyval(b[::-1],x))\n",
        "  return yhat"
      ],
      "execution_count": 0,
      "outputs": []
    },
    {
      "metadata": {
        "id": "4c0olC-CdZJh",
        "colab_type": "text"
      },
      "cell_type": "markdown",
      "source": [
        "When we fit with a nonlinear model, most methods only get convergence to a local minima.  So, you need a good initial condition.  For a rational model, one way to get is to realize that if:\n",
        "\n",
        "\n",
        "    y ~= (a[0] + a[1]*x + ... + a[d]*x^d)/(1 + b[0]*x + ... + b[d-1]*x^d)\n",
        "    \n",
        "Then:\n",
        "\n",
        "    y ~= a[0] + a[1]*x + ... + a[d]*x^d - b[0]*x*y + ... - b[d-1]*x^d*y.\n",
        "    \n",
        "So, we can solve for the the parameters `w = [a,b]` from linear regression of the predictors,\n",
        "\n",
        "    Z[i,:] = [ x[i], ... , x[i]**d, y[i]*x[i], ... , y[i}*x[i]**d ] "
      ]
    },
    {
      "metadata": {
        "id": "Kkpi8s-bdZJl",
        "colab_type": "code",
        "colab": {
          "base_uri": "https://localhost:8080/",
          "height": 92
        },
        "outputId": "7a734d68-1c37-4e4b-8993-67bcaee66523"
      },
      "cell_type": "code",
      "source": [
        "d = 3\n",
        "\n",
        "# # TODO. Create the transformed feature matrix\n",
        "\n",
        "Z=np.zeros([x.shape[0],2*d])\n",
        "for i in range(1,d+1):\n",
        "  Z[:,i-1]=np.power(x,i)\n",
        "for i in range(d+1,2*d+1):\n",
        "  Z[:,i-1]=np.multiply(np.power(x,i-d),y)\n",
        "  \n",
        "# TODO. Fit with parameters with linear regression\n",
        "regr = LinearRegression().fit(Z, y)\n",
        "print(regr.score(Z, y))\n",
        "\n",
        "# TODO\n",
        "# Extract the parameters from regr.coef_ and regr.intercept_ and store the parameter vector in winit\n",
        "\n",
        "winit=np.zeros(7)\n",
        "winit[0] = regr.intercept_\n",
        "winit[1:4] =regr.coef_[0:3]\n",
        "winit[4:7] =-regr.coef_[3:6]\n",
        "print(winit)"
      ],
      "execution_count": 8,
      "outputs": [
        {
          "output_type": "stream",
          "text": [
            "0.9999858065659775\n",
            "[ 0.02389422  0.1413507  -0.42007919  0.29811599 -2.24491986  1.49559312\n",
            " -0.20751461]\n"
          ],
          "name": "stdout"
        }
      ]
    },
    {
      "metadata": {
        "id": "Hu3vidPndZJ3",
        "colab_type": "text"
      },
      "cell_type": "markdown",
      "source": [
        "Now plot the predicted values of the `yhat` vs. `x` using your estimated parameter `winit` for 1000 values `x` in `[0,1]`.  On the same plot, plot `yts` vs. `xts`.  You will see that you get a horrible fit."
      ]
    },
    {
      "metadata": {
        "id": "EjASi9lddZJ6",
        "colab_type": "code",
        "colab": {
          "base_uri": "https://localhost:8080/",
          "height": 347
        },
        "outputId": "08bee7d7-e678-4a3f-dd59-e89b71db6184"
      },
      "cell_type": "code",
      "source": [
        "# TODO\n",
        "xp = np.linspace(0,1,1000)\n",
        "yhat = predict(winit,x[0:1000])\n",
        "plt.plot(x[0:1000],yhat,'o')\n",
        "plt.plot(xts,yts,'o')\n",
        "plt.show()"
      ],
      "execution_count": 9,
      "outputs": [
        {
          "output_type": "display_data",
          "data": {
            "image/png": "[encoded data removed]",
            "text/plain": [
              "<Figure size 576x396 with 1 Axes>"
            ]
          },
          "metadata": {
            "tags": []
          }
        }
      ]
    },
    {
      "metadata": {
        "id": "SnUKfgwEdZKC",
        "colab_type": "text"
      },
      "cell_type": "markdown",
      "source": [
        "The reason the previous fit is poor is that the denominator in `yhat` goes close to zero.   To avoid this problem, we can use Ridge regression, to try to keep the parameters close to zero.  Re-run the fit above with `Ridge` with `alpha = 1e-3`. You should see you get a reasonable, but not perfect fit."
      ]
    },
    {
      "metadata": {
        "id": "u_0LL4F_dZKH",
        "colab_type": "code",
        "colab": {
          "base_uri": "https://localhost:8080/",
          "height": 478
        },
        "outputId": "a2112021-a502-4882-8f7f-b21db110c81c"
      },
      "cell_type": "code",
      "source": [
        "# TODO. Fit with parameters with linear regression\n",
        "regr = Ridge(alpha=1e-3)\n",
        "regr.fit(Z, y)\n",
        "print(regr.score(Z, y))\n",
        "\n",
        "# TODO\n",
        "# Extract the parameters from regr.coef_ and regr.intercept_\n",
        "print(regr.coef_)\n",
        "a=np.append(regr.intercept_,regr.coef_[0:3])\n",
        "b=-regr.coef_[3:6]\n",
        "print(a)\n",
        "print(b)\n",
        "winit=np.append(a,b)\n",
        "print(winit)\n",
        "\n",
        "#TODO\n",
        "#Plot the results as above.\n",
        "xp = np.linspace(0,1,1000)\n",
        "yhat = predict(winit,xp)\n",
        "plt.plot(xp,yhat)\n",
        "plt.plot(xts,yts,'*')\n",
        "plt.show()"
      ],
      "execution_count": 10,
      "outputs": [
        {
          "output_type": "stream",
          "text": [
            "0.9999767971948349\n",
            "[ 0.1610664  -0.3764923   0.23680583  1.33150187  0.28766566 -0.66483423]\n",
            "[ 0.02494345  0.1610664  -0.3764923   0.23680583]\n",
            "[-1.33150187 -0.28766566  0.66483423]\n",
            "[ 0.02494345  0.1610664  -0.3764923   0.23680583 -1.33150187 -0.28766566\n",
            "  0.66483423]\n"
          ],
          "name": "stdout"
        },
        {
          "output_type": "display_data",
          "data": {
            "image/png": "[encoded data removed]",
            "text/plain": [
              "<Figure size 576x396 with 1 Axes>"
            ]
          },
          "metadata": {
            "tags": []
          }
        }
      ]
    },
    {
      "metadata": {
        "id": "1qBZPrqBdZKM",
        "colab_type": "text"
      },
      "cell_type": "markdown",
      "source": [
        "## Creating a Loss Function\n",
        "\n",
        "We can now use gradient descent to improve our initial estimate.  Complete the following function to compute\n",
        "\n",
        "    f(w) = 0.5*\\sum_i (y[i] - yhat[i])^2\n",
        "    \n",
        "and `fgrad`, the gradient of `f(w)`."
      ]
    },
    {
      "metadata": {
        "id": "0blJJamodZKU",
        "colab_type": "code",
        "colab": {}
      },
      "cell_type": "code",
      "source": [
        "def feval(w,x,y): \n",
        "  # TODO.  Parse w\n",
        "  d = (len(w)-1)//2\n",
        "  a = w[0:4]\n",
        "  b = w[4:7]\n",
        "\n",
        "  # TODO.  Znum[i,j] = x[i]**j\n",
        "  Znum=np.zeros((x.shape[0],4))\n",
        "  for i in range(0,x.shape[0]):\n",
        "    for j in range(0,4):\n",
        "      Znum[i,j] = x[i]**j\n",
        "  #Znum[i,:]=np.array([1,x[i],x[i]**2,x[i]**3])\n",
        "\n",
        "  # TODO.  Zden[i,j] = x[i]**(j+1)\n",
        "  Zden=np.zeros((x.shape[0],3))\n",
        "  for i in range(0,x.shape[0]):\n",
        "    for j in range(0,3):\n",
        "      Zden[i,j] = x[i]**(j+1)\n",
        "\n",
        "  # TODO.  Compute yhat \n",
        "  # Compute the numerator and denominator\n",
        "  num=Znum.dot(a.T)\n",
        "  den=Zden.dot(b.T)\n",
        "  yhat=num/(1+den)\n",
        "  yerr=y-yhat\n",
        "  f = 0.5*np.sum((np.square(yerr)))\n",
        "\n",
        "  # TODO.  Compute gradients\n",
        "  dyhat_da0 = 1/(1+np.multiply(b[0],x)+np.multiply(b[1],x**2)+np.multiply(b[2],x**3))\n",
        "  dyhat_da1 = x/(1+np.multiply(b[0],x)+np.multiply(b[1],x**2)+np.multiply(b[2],x**3))\n",
        "  dyhat_da2 = (x**2)/(1+np.multiply(b[0],x)+np.multiply(b[1],x**2)+np.multiply(b[2],x**3))\n",
        "  dyhat_da3 = (x**3)/(1+np.multiply(b[0],x)+np.multiply(b[1],x**2)+np.multiply(b[2],x**3))\n",
        "\n",
        "  A=np.multiply(a[1],x)+np.multiply(a[2],x**2)+np.multiply(a[3],x**3)+a[0]\n",
        "  B=1+x.dot(b[0])+(x**2).dot(b[1])+(x**3).dot(b[2])\n",
        "\n",
        "  dyhat_db0 = -A*x*(B)**(-2)\n",
        "  dyhat_db1 = -A*(x**2)*(B)**(-2)\n",
        "  dyhat_db2 = -A*(x**3)*(B)**(-2)\n",
        "  \n",
        "  dJ_da0 = -np.sum((y-yhat)*dyhat_da0)\n",
        "  dJ_da1 = -np.sum((y-yhat)*dyhat_da1)\n",
        "  dJ_da2 = -np.sum((y-yhat)*dyhat_da2)\n",
        "  dJ_da3 = -np.sum((y-yhat)*dyhat_da3)\n",
        "  \n",
        "  dJ_db0 = -np.sum((y-yhat)*dyhat_db0)\n",
        "  dJ_db1 = -np.sum((y-yhat)*dyhat_db1)\n",
        "  dJ_db2 = -np.sum((y-yhat)*dyhat_db2)\n",
        "  \n",
        "  fgrad = np.hstack([dJ_da0,dJ_da1,dJ_da2,dJ_da3, dJ_db0,dJ_db1,dJ_db2])\n",
        "\n",
        "  return f, fgrad\n"
      ],
      "execution_count": 0,
      "outputs": []
    },
    {
      "metadata": {
        "id": "54odHsLLdZKe",
        "colab_type": "text"
      },
      "cell_type": "markdown",
      "source": [
        "Test the gradient function:\n",
        "* Take `w0=winit` and compute `f0,fgrad0 = feval(w0,xtr,ytr)`\n",
        "* Take `w1` very close to `w0` and compute `f1,fgrad1 = feval(w1,xtr,ytr)`\n",
        "* Verify that `f1-f0` is close to the predicted value based on the gradient."
      ]
    },
    {
      "metadata": {
        "id": "o5djbWMSdZKl",
        "colab_type": "code",
        "colab": {
          "base_uri": "https://localhost:8080/",
          "height": 91
        },
        "outputId": "bb96933e-f572-4989-caa1-80b1c2207df0"
      },
      "cell_type": "code",
      "source": [
        "# TODO\n",
        "\n",
        "w0=winit\n",
        "\n",
        "# Take a random initial point\n",
        "# Perturb the point\n",
        "step = 1e-6\n",
        "w1 = w0 + step*np.random.randn(7)\n",
        "\n",
        "# Measure the function and gradient at w0 and w1\n",
        "f0, fgrad0 = feval(w0,xtr,ytr)\n",
        "f1, fgrad1 = feval(w1,xtr,ytr)\n",
        "\n",
        "# Predict the amount the function should have changed based on the gradient\n",
        "df_est = fgrad0.dot(w1-w0)\n",
        "\n",
        "# Print the two values to see if they are close\n",
        "print(\"Actual f1-f0 = %.10f\" % (f1-f0))\n",
        "print(\"Predicted f1-f0 = %.10f\" % df_est)\n",
        "print(f1)\n",
        "print(f0)"
      ],
      "execution_count": 16,
      "outputs": [
        {
          "output_type": "stream",
          "text": [
            "Actual f1-f0 = -0.0000114037\n",
            "Predicted f1-f0 = -0.0000114178\n",
            "0.177652817474256\n",
            "0.17766422116601605\n"
          ],
          "name": "stdout"
        }
      ]
    },
    {
      "metadata": {
        "id": "Z7icLE6mdZKs",
        "colab_type": "text"
      },
      "cell_type": "markdown",
      "source": [
        "## Implement gradient descent\n",
        "\n",
        "We will now try to minimize the loss function with gradient descent.  Using the function `feval` defined above, implement gradient descent.  Run gradient descent with a step size of `alpha=1e-6` starting at `w=winit`.  Run it for `nit=10000` iterations.  Compute `fgd[it]`= the objective function on iteration `it`.  Plot `fgd[it]` vs. `it`.  \n",
        "\n",
        "You should see that the training loss decreases, but it still hasn't converged after 10000 iterations."
      ]
    },
    {
      "metadata": {
        "id": "gXIRP4UsdZKt",
        "colab_type": "code",
        "colab": {
          "base_uri": "https://localhost:8080/",
          "height": 351
        },
        "outputId": "c9510979-7971-4e3a-b817-9e8d0140ccdb"
      },
      "cell_type": "code",
      "source": [
        "# TODO\n",
        "# fadapt = ...\n",
        "nit = 10000\n",
        "step = 1e-6  # Initial step\n",
        "\n",
        "f=np.zeros(nit)\n",
        "fgrads=np.zeros((nit,7))\n",
        "w0=winit\n",
        "for it in range(nit):\n",
        "  # Evaluate the function and gradient\n",
        "  f0, fgrad0 = feval(w0,x,y)\n",
        "  \n",
        "  # Take a gradient step \n",
        "  w0 = w0 - step*fgrad0\n",
        "  f[it]=f0\n",
        "  fgrads[it,:]=fgrad0\n",
        "  \n",
        "  \n",
        "t= np.arange(nit)\n",
        "plt.semilogx(t, f)\n",
        "plt.grid()\n",
        "plt.show()\n"
      ],
      "execution_count": 19,
      "outputs": [
        {
          "output_type": "display_data",
          "data": {
            "image/png": "[encoded data removed]",
            "text/plain": [
              "<Figure size 576x396 with 1 Axes>"
            ]
          },
          "metadata": {
            "tags": []
          }
        }
      ]
    },
    {
      "metadata": {
        "id": "e5uCz1gYdZK0",
        "colab_type": "text"
      },
      "cell_type": "markdown",
      "source": [
        "Now, try to get a faster convergence with adaptive step-size using the Armijo rule. Implement the gradient descent with adaptive step size.  Let `fadapt[it]` be the loss function on iteration `it`.  Plot `fadapt[it]` and `fgd[it]` vs. `it` on the same graph.  You should see a slight improvement, but not much."
      ]
    },
    {
      "metadata": {
        "scrolled": true,
        "id": "I6wh050hdZK9",
        "colab_type": "code",
        "colab": {
          "base_uri": "https://localhost:8080/",
          "height": 351
        },
        "outputId": "549ab154-37a2-45e4-e67c-d434e192ddb8"
      },
      "cell_type": "code",
      "source": [
        "# TODO\n",
        "nit = 10000\n",
        "lr = 1e-6 # Initial step\n",
        "\n",
        "f11t=np.zeros(nit)\n",
        "fgrads=np.zeros((nit,7))\n",
        "w0=winit\n",
        "w00 = winit\n",
        "f00, fgrad00 = feval(w0,x,y)\n",
        "\n",
        "for it in range(nit):\n",
        "  w11 = w00 - lr*fgrad0\n",
        "  f11, fgrad11 = feval(w11,x,y)\n",
        "  df_est = fgrad0.dot(w11-w00)\n",
        "  alpha = 0.5\n",
        "  if (f11-f00 < alpha*df_est) and (f11 < f00):\n",
        "    lr = lr*2\n",
        "    f00 = f11\n",
        "    fgrad00 = fgrad11\n",
        "    w00 = w11\n",
        "  else:\n",
        "    lr = lr/2\n",
        "   \n",
        "  f11t[it]=f00\n",
        "  fgrads[it,:]=fgrad00\n",
        "  \n",
        "  \n",
        "t = np.arange(nit)\n",
        "plt.semilogx(t, f11t)\n",
        "plt.semilogx(t, f)\n",
        "plt.grid()\n",
        "plt.show()"
      ],
      "execution_count": 20,
      "outputs": [
        {
          "output_type": "display_data",
          "data": {
            "image/png": "[encoded data removed]",
            "text/plain": [
              "<Figure size 576x396 with 1 Axes>"
            ]
          },
          "metadata": {
            "tags": []
          }
        }
      ]
    },
    {
      "metadata": {
        "id": "kSGJHzp1dZLI",
        "colab_type": "text"
      },
      "cell_type": "markdown",
      "source": [
        "Using he final estimate for `w` from the adaptive step-size plot the predicted values of the `yhat` vs. `x` usfor 1000 values `x` in `[0,1]`.  On the same plot, plot `yhat` vs. `x` for the initial parameter `w=winit`.  Also, plot `yts` vs. `xts`.  You should see that gradient descent was able to improve the estimat slightly, although the initial estimate was not too bad."
      ]
    },
    {
      "metadata": {
        "id": "9TosJrF-dZLM",
        "colab_type": "code",
        "colab": {
          "base_uri": "https://localhost:8080/",
          "height": 347
        },
        "outputId": "38df829e-3a4c-4eeb-a281-7aadd79298f8"
      },
      "cell_type": "code",
      "source": [
        "xp = np.linspace(0,1,1000)\n",
        "yhat = predict(w00,xp)\n",
        "plt.plot(xp,yhat)\n",
        "plt.plot(xts,yts,'*')\n",
        "plt.show()"
      ],
      "execution_count": 21,
      "outputs": [
        {
          "output_type": "display_data",
          "data": {
            "image/png": "[encoded data removed]",
            "text/plain": [
              "<Figure size 576x396 with 1 Axes>"
            ]
          },
          "metadata": {
            "tags": []
          }
        }
      ]
    },
    {
      "metadata": {
        "id": "ORzjnVL5dZLT",
        "colab_type": "text"
      },
      "cell_type": "markdown",
      "source": [
        "## Momentum Gradient Descent\n",
        "\n",
        "This section is bonus.\n",
        "\n",
        "One way to improve gradient descent is to use *momentum*.  In momentum gradient descent, the update rule is:\n",
        "\n",
        "    f, fgrad = feval(w,...)\n",
        "    z = beta*d + fgrad\n",
        "    w = w - step*z\n",
        "    \n",
        "This is similar to gradient descent, except that there is a second order term on the gradient.  Implement this algorithm with `beta = 0.99` and `step=1e-5`.   Compare the convergence of the loss function with gradient descent.  "
      ]
    },
    {
      "metadata": {
        "id": "VlZtbiWAdZLW",
        "colab_type": "code",
        "colab": {}
      },
      "cell_type": "code",
      "source": [
        "# TODO\n",
        "nit = 1000\n",
        "step = 1e-5\n",
        "beta = 0.99"
      ],
      "execution_count": 0,
      "outputs": []
    },
    {
      "metadata": {
        "id": "tXAC8g_vdZLi",
        "colab_type": "code",
        "colab": {}
      },
      "cell_type": "code",
      "source": [
        "# TODO\n",
        "# plot yhat vs. x"
      ],
      "execution_count": 0,
      "outputs": []
    },
    {
      "metadata": {
        "id": "UL9vCuXKdZLv",
        "colab_type": "code",
        "colab": {}
      },
      "cell_type": "code",
      "source": [
        ""
      ],
      "execution_count": 0,
      "outputs": []
    },
    {
      "metadata": {
        "id": "UCHCXTm0dZL6",
        "colab_type": "code",
        "colab": {}
      },
      "cell_type": "code",
      "source": [
        ""
      ],
      "execution_count": 0,
      "outputs": []
    }
  ]
}