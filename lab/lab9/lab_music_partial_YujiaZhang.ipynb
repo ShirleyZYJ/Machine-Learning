{
  "nbformat": 4,
  "nbformat_minor": 0,
  "metadata": {
    "colab": {
      "name": "lab_music_partial_YujiaZhang.ipynb",
      "version": "0.3.2",
      "provenance": [],
      "collapsed_sections": []
    },
    "kernelspec": {
      "display_name": "Python 3",
      "language": "python",
      "name": "python3"
    }
  },
  "cells": [
    {
      "metadata": {
        "id": "1upQIjXq2IvF",
        "colab_type": "text"
      },
      "cell_type": "markdown",
      "source": [
        "# Lab:  Neural Networks for Music Classification\n",
        "\n",
        "In addition to the concepts in the [MNIST neural network demo](./demo2_mnist_neural.ipynb), in this lab, you will learn to:\n",
        "* Load a file from a URL\n",
        "* Extract simple features from audio samples for machine learning tasks such as speech recognition and classification\n",
        "* Build a simple neural network for music classification using these features\n",
        "* Use a callback to store the loss and accuracy history in the training process\n",
        "* Optimize the learning rate of the neural network\n",
        "\n",
        "To illustrate the basic concepts, we will look at a relatively simple music classification problem.  Given a sample of music, we want to determine which instrument (e.g. trumpet, violin, piano) is playing.  This dataset was generously supplied by [Prof. Juan Bello](http://steinhardt.nyu.edu/faculty/Juan_Pablo_Bello) at NYU Stenihardt  and his former PhD student Eric Humphrey (now at Spotify).  They have a complete website dedicated to deep learning methods in music informatics:\n",
        "\n",
        "http://marl.smusic.nyu.edu/wordpress/projects/feature-learning-deep-architectures/deep-learning-python-tutorial/\n",
        "\n",
        "You can also check out Juan's <a href=\"http://www.nyu.edu/classes/bello/ACA.html\">course</a>.\n",
        "\n"
      ]
    },
    {
      "metadata": {
        "id": "FYYdBzUl2IvM",
        "colab_type": "text"
      },
      "cell_type": "markdown",
      "source": [
        "## Loading Tensorflow\n",
        "\n",
        "Before starting this lab, you will need to install [Tensorflow](https://www.tensorflow.org/install/).  If you are using [Google colaboratory](https://colab.research.google.com), Tensorflow is already installed.  Run the following command to ensure Tensorflow is installed."
      ]
    },
    {
      "metadata": {
        "id": "xakg1iA82IvS",
        "colab_type": "code",
        "colab": {}
      },
      "cell_type": "code",
      "source": [
        "import tensorflow as tf"
      ],
      "execution_count": 0,
      "outputs": []
    },
    {
      "metadata": {
        "id": "GuKzklxa2Ivl",
        "colab_type": "text"
      },
      "cell_type": "markdown",
      "source": [
        "Then, load the other packages."
      ]
    },
    {
      "metadata": {
        "id": "65en7BeM2Ivr",
        "colab_type": "code",
        "colab": {}
      },
      "cell_type": "code",
      "source": [
        "import numpy as np\n",
        "import matplotlib\n",
        "import matplotlib.pyplot as plt\n",
        "%matplotlib inline"
      ],
      "execution_count": 0,
      "outputs": []
    },
    {
      "metadata": {
        "id": "JiOpPPju2Iv6",
        "colab_type": "text"
      },
      "cell_type": "markdown",
      "source": [
        "## Audio Feature Extraction with Librosa\n",
        "\n",
        "The key to audio classification is to extract the correct features. In addition to `keras`, we will need the `librosa` package.  The `librosa` package in python has a rich set of methods extracting the features of audio samples commonly used in machine learning tasks such as speech recognition and sound classification. \n",
        "\n",
        "Installation instructions and complete documentation for the package are given on the [librosa main page](https://librosa.github.io/librosa/).  On most systems, you should be able to simply use:\n",
        "\n",
        "    pip install -u librosa\n",
        "    \n",
        "For Unix, you may need to load some additional packages:\n",
        "\n",
        "    sudo apt-get install build-essential\n",
        "    sudo apt-get install libxext-dev python-qt4 qt4-dev-tools\n",
        "    pip install librosa\n",
        "    \n",
        "After you have installed the package, try to import it."
      ]
    },
    {
      "metadata": {
        "id": "JyNB8fjx2Iv9",
        "colab_type": "code",
        "colab": {}
      },
      "cell_type": "code",
      "source": [
        "import librosa\n",
        "import librosa.display\n",
        "import librosa.feature"
      ],
      "execution_count": 0,
      "outputs": []
    },
    {
      "metadata": {
        "id": "K2V_XFoD2IwJ",
        "colab_type": "text"
      },
      "cell_type": "markdown",
      "source": [
        "In this lab, we will use a set of music samples from the website:\n",
        "\n",
        "http://theremin.music.uiowa.edu\n",
        "\n",
        "This website has a great set of samples for audio processing.  Look on the web for how to use the `requests.get` and `file.write` commands to load the file at the URL provided into your working directory.\n",
        "\n",
        "You can play the audio sample by copying the file to your local machine and playing it on any media player.  If you listen to it you will hear a soprano saxaphone (with vibrato) playing four notes (C, C#, D, Eb)."
      ]
    },
    {
      "metadata": {
        "id": "2xibFJpX2IwM",
        "colab_type": "code",
        "colab": {}
      },
      "cell_type": "code",
      "source": [
        "import requests\n",
        "fn = \"SopSax.Vib.pp.C6Eb6.aiff\"\n",
        "url = \"http://theremin.music.uiowa.edu/sound files/MIS/Woodwinds/sopranosaxophone/\"+fn\n",
        "\n",
        "# TODO:  Load the file from url and save it in a file under the name fn\n",
        "req = requests.get(url)\n",
        "with open(fn,\"wb\") as file:\n",
        "  file.write(req.content)\n",
        "  "
      ],
      "execution_count": 0,
      "outputs": []
    },
    {
      "metadata": {
        "id": "GUTr99S32IwW",
        "colab_type": "text"
      },
      "cell_type": "markdown",
      "source": [
        "Next, use `librosa` command `librosa.load` to read the audio file with filename `fn` and get the samples `y` and sample rate `sr`."
      ]
    },
    {
      "metadata": {
        "id": "FI-Ix5O-2Iwa",
        "colab_type": "code",
        "colab": {}
      },
      "cell_type": "code",
      "source": [
        "# TODO\n",
        "y, sr = librosa.load(fn)"
      ],
      "execution_count": 0,
      "outputs": []
    },
    {
      "metadata": {
        "id": "q77mXmL22Iwr",
        "colab_type": "text"
      },
      "cell_type": "markdown",
      "source": [
        "Extracting features from audio files is an entire subject on its own right.  A commonly used set of features are called the Mel Frequency Cepstral Coefficients (MFCCs).  These are derived from the so-called mel spectrogram which is something like a regular spectrogram, but the power and frequency are represented in log scale, which more naturally aligns with human perceptual processing.  You can run the code below to display the mel spectrogram from the audio sample.\n",
        "\n",
        "You can easily see the four notes played in the audio track.  You also see the 'harmonics' of each notes, which are other tones at integer multiples of the fundamental frequency of each note."
      ]
    },
    {
      "metadata": {
        "id": "raQe5-MW2Iwu",
        "colab_type": "code",
        "outputId": "9583a5b8-b8dd-485e-b8c0-e93eee6f1b7e",
        "colab": {
          "base_uri": "https://localhost:8080/",
          "height": 297
        }
      },
      "cell_type": "code",
      "source": [
        "S = librosa.feature.melspectrogram(y=y, sr=sr, n_mels=128, fmax=8000)\n",
        "librosa.display.specshow(librosa.amplitude_to_db(S),\n",
        "                         y_axis='mel', fmax=8000, x_axis='time')\n",
        "plt.colorbar(format='%+2.0f dB')\n",
        "plt.title('Mel spectrogram')\n",
        "plt.tight_layout()"
      ],
      "execution_count": 6,
      "outputs": [
        {
          "output_type": "display_data",
          "data": {
            "image/png": "[encoded data removed]",
            "text/plain": [
              "<Figure size 432x288 with 2 Axes>"
            ]
          },
          "metadata": {
            "tags": []
          }
        }
      ]
    },
    {
      "metadata": {
        "id": "qa05_Tyk2Iw8",
        "colab_type": "text"
      },
      "cell_type": "markdown",
      "source": [
        "## Downloading the Data\n",
        "\n",
        "Using the MFCC features described above, Eric Humphrey and Juan Bellow have created a complete data set that can used for instrument classification.  Essentially, they collected a number of data files from the website above.  For each audio file, the segmented the track into notes and then extracted 120 MFCCs for each note.  The goal is to recognize the instrument from the 120 MFCCs.  The process of feature extraction is quite involved.  So, we will just use their processed data provided at:\n",
        "\n",
        "https://github.com/marl/dl4mir-tutorial/blob/master/README.md\n",
        "\n",
        "Note the password.  Load the four files into some directory, say  `instrument_dataset`.  Then, load them with the commands."
      ]
    },
    {
      "metadata": {
        "id": "ZV0sphEP2IxC",
        "colab_type": "code",
        "colab": {}
      },
      "cell_type": "code",
      "source": [
        "Xtr = np.load('uiowa_train_data.npy')\n",
        "ytr = np.load('uiowa_train_labels.npy')\n",
        "Xts = np.load('uiowa_test_data.npy')\n",
        "yts = np.load('uiowa_test_labels.npy')"
      ],
      "execution_count": 0,
      "outputs": []
    },
    {
      "metadata": {
        "id": "9UIG7jBq2IxV",
        "colab_type": "text"
      },
      "cell_type": "markdown",
      "source": [
        "Looking at the data files:\n",
        "* What are the number of training and test samples?\n",
        "* What is the number of features for each sample?\n",
        "* How many classes (i.e. instruments) are there per class?\n"
      ]
    },
    {
      "metadata": {
        "id": "aCp9WwwZ2Ixa",
        "colab_type": "code",
        "outputId": "5cb9b214-3123-4539-e8ca-513af9026d17",
        "colab": {
          "base_uri": "https://localhost:8080/",
          "height": 92
        }
      },
      "cell_type": "code",
      "source": [
        "# TODO\n",
        "print(Xtr.shape[0])\n",
        "print(Xts.shape[0])\n",
        "print(Xtr.shape[1])\n",
        "print(np.max(ytr)+1)"
      ],
      "execution_count": 10,
      "outputs": [
        {
          "output_type": "stream",
          "text": [
            "66247\n",
            "14904\n",
            "120\n",
            "10\n"
          ],
          "name": "stdout"
        }
      ]
    },
    {
      "metadata": {
        "id": "D5QHNcP22Ixi",
        "colab_type": "text"
      },
      "cell_type": "markdown",
      "source": [
        "Before continuing, you must scale the training and test data, `Xtr` and `Xts`.  Compute the mean and std deviation of each feature in `Xtr` and create a new training data set, `Xtr_scale`, by subtracting the mean and dividing by the std deviation.  Also compute a scaled test data set, `Xts_scale` using the mean and std deviation learned from the training data set."
      ]
    },
    {
      "metadata": {
        "id": "jK2Ya9oD2Ixm",
        "colab_type": "code",
        "colab": {}
      },
      "cell_type": "code",
      "source": [
        "# TODO Scale the training and test matrices\n",
        "xmean=np.mean(Xtr,axis=0)\n",
        "xstd=np.std(Xtr,axis=0)\n",
        "Xtr_scale = (Xtr-xmean[None,:]/xstd[None,:])\n",
        "Xts_scale = (Xts-xmean[None,:]/xstd[None,:])"
      ],
      "execution_count": 0,
      "outputs": []
    },
    {
      "metadata": {
        "collapsed": true,
        "id": "mGSexLPe2Ixv",
        "colab_type": "text"
      },
      "cell_type": "markdown",
      "source": [
        "## Building a Neural Network Classifier\n",
        "\n",
        "Following the example in [MNIST neural network demo](./mnist_neural.ipynb), clear the keras session.  Then, create a neural network `model` with:\n",
        "* `nh=256` hidden units\n",
        "* `sigmoid` activation\n",
        "* select the input and output shapes correctly\n",
        "* print the model summary"
      ]
    },
    {
      "metadata": {
        "id": "bPIijCKr2Ix1",
        "colab_type": "code",
        "colab": {}
      },
      "cell_type": "code",
      "source": [
        "from tensorflow.keras.models import Model, Sequential\n",
        "from tensorflow.keras.layers import Dense, Activation\n",
        "import tensorflow.keras.backend as K\n"
      ],
      "execution_count": 0,
      "outputs": []
    },
    {
      "metadata": {
        "id": "cZ9zcDX72IyD",
        "colab_type": "code",
        "colab": {}
      },
      "cell_type": "code",
      "source": [
        "# TODO clear session\n",
        "K.clear_session()\n"
      ],
      "execution_count": 0,
      "outputs": []
    },
    {
      "metadata": {
        "id": "8CW_wpbE2IyO",
        "colab_type": "code",
        "colab": {
          "base_uri": "https://localhost:8080/",
          "height": 93
        },
        "outputId": "25b86246-5a7c-4786-9650-e15c2a4b50f8"
      },
      "cell_type": "code",
      "source": [
        "# TODO: construct the model\n",
        "nin=Xtr.shape[1]\n",
        "nout=np.max(ytr)+1\n",
        "model=Sequential()\n",
        "model.add(Dense(256,input_shape=(nin,),activation='sigmoid', name='hidden'))\n",
        "model.add(Dense(nout,activation='softmax',name='output'))"
      ],
      "execution_count": 14,
      "outputs": [
        {
          "output_type": "stream",
          "text": [
            "WARNING:tensorflow:From /usr/local/lib/python3.6/dist-packages/tensorflow/python/ops/resource_variable_ops.py:435: colocate_with (from tensorflow.python.framework.ops) is deprecated and will be removed in a future version.\n",
            "Instructions for updating:\n",
            "Colocations handled automatically by placer.\n"
          ],
          "name": "stdout"
        }
      ]
    },
    {
      "metadata": {
        "id": "phBNsk652IyV",
        "colab_type": "code",
        "outputId": "3fc65681-2c5f-4731-d023-38452cffac01",
        "colab": {
          "base_uri": "https://localhost:8080/",
          "height": 223
        }
      },
      "cell_type": "code",
      "source": [
        "# TODO:  Print the model summary\n",
        "model.summary()"
      ],
      "execution_count": 15,
      "outputs": [
        {
          "output_type": "stream",
          "text": [
            "_________________________________________________________________\n",
            "Layer (type)                 Output Shape              Param #   \n",
            "=================================================================\n",
            "hidden (Dense)               (None, 256)               30976     \n",
            "_________________________________________________________________\n",
            "output (Dense)               (None, 10)                2570      \n",
            "=================================================================\n",
            "Total params: 33,546\n",
            "Trainable params: 33,546\n",
            "Non-trainable params: 0\n",
            "_________________________________________________________________\n"
          ],
          "name": "stdout"
        }
      ]
    },
    {
      "metadata": {
        "id": "UTPRFSNa2Iyn",
        "colab_type": "text"
      },
      "cell_type": "markdown",
      "source": [
        "Create an optimizer and compile the model.  Select the appropriate loss function and metrics.  For the optimizer, use the Adam optimizer with a learning rate of 0.001"
      ]
    },
    {
      "metadata": {
        "scrolled": true,
        "id": "11egW_k42Iyu",
        "colab_type": "code",
        "colab": {}
      },
      "cell_type": "code",
      "source": [
        "# TODO\n",
        "from tensorflow.keras import optimizers\n",
        "\n",
        "opt = optimizers.Adam(lr=0.001)\n",
        "model.compile(optimizer=opt,\n",
        "              loss='sparse_categorical_crossentropy',\n",
        "              metrics=['accuracy'])"
      ],
      "execution_count": 0,
      "outputs": []
    },
    {
      "metadata": {
        "id": "w0a8pii22Iy8",
        "colab_type": "text"
      },
      "cell_type": "markdown",
      "source": [
        "Fit the model for 10 epochs using the scaled data for both the training and validation.  Use the `validation_data` option to pass the test data.  Also, pass the callback class create above.  Use a batch size of 100.  Your final accuracy should be >99%."
      ]
    },
    {
      "metadata": {
        "id": "jZC2PnjoyosB",
        "colab_type": "code",
        "colab": {}
      },
      "cell_type": "code",
      "source": [
        "class LossHistory(tf.keras.callbacks.Callback):\n",
        "  def on_train_begin(self,logs={}):\n",
        "    self.loss=[]\n",
        "    self.val_acc=[]\n",
        "  def on_batch_end(self,batch,logs={}):\n",
        "    self.loss.append(logs.get('loss'))\n",
        "  def on_epoch_end(self,epoch,logs):\n",
        "    self.val_acc.append(logs.get('val_acc'))\n",
        "    \n",
        "history_hist=LossHistory()"
      ],
      "execution_count": 0,
      "outputs": []
    },
    {
      "metadata": {
        "scrolled": true,
        "id": "vKBtmesW2Iy-",
        "colab_type": "code",
        "outputId": "295fd43d-bc82-40fa-ce25-494ff9e2cb19",
        "colab": {
          "base_uri": "https://localhost:8080/",
          "height": 430
        }
      },
      "cell_type": "code",
      "source": [
        "# TODO\n",
        "hist = model.fit(Xtr, ytr, \n",
        "                 epochs=10, \n",
        "                 batch_size=100, \n",
        "                 validation_data=(Xts,yts),\n",
        "                 callbacks=[history_hist])"
      ],
      "execution_count": 19,
      "outputs": [
        {
          "output_type": "stream",
          "text": [
            "Train on 66247 samples, validate on 14904 samples\n",
            "Epoch 1/10\n",
            "66247/66247 [==============================] - 2s 35us/sample - loss: 1.4521 - acc: 0.5173 - val_loss: 1.5026 - val_acc: 0.4953\n",
            "Epoch 2/10\n",
            "66247/66247 [==============================] - 2s 29us/sample - loss: 0.9855 - acc: 0.6805 - val_loss: 1.1018 - val_acc: 0.6390\n",
            "Epoch 3/10\n",
            "66247/66247 [==============================] - 2s 28us/sample - loss: 0.7244 - acc: 0.7713 - val_loss: 0.8280 - val_acc: 0.7346\n",
            "Epoch 4/10\n",
            "66247/66247 [==============================] - 2s 28us/sample - loss: 0.5621 - acc: 0.8298 - val_loss: 0.6537 - val_acc: 0.7874\n",
            "Epoch 5/10\n",
            "66247/66247 [==============================] - 2s 29us/sample - loss: 0.4508 - acc: 0.8707 - val_loss: 0.5189 - val_acc: 0.8417\n",
            "Epoch 6/10\n",
            "66247/66247 [==============================] - 2s 28us/sample - loss: 0.3718 - acc: 0.8965 - val_loss: 0.4245 - val_acc: 0.8803\n",
            "Epoch 7/10\n",
            "66247/66247 [==============================] - 2s 29us/sample - loss: 0.3148 - acc: 0.9145 - val_loss: 0.3537 - val_acc: 0.9032\n",
            "Epoch 8/10\n",
            "66247/66247 [==============================] - 2s 29us/sample - loss: 0.2717 - acc: 0.9281 - val_loss: 0.3099 - val_acc: 0.9134\n",
            "Epoch 9/10\n",
            "66247/66247 [==============================] - 2s 28us/sample - loss: 0.2391 - acc: 0.9360 - val_loss: 0.2732 - val_acc: 0.9276\n",
            "Epoch 10/10\n",
            "66247/66247 [==============================] - 2s 29us/sample - loss: 0.2143 - acc: 0.9419 - val_loss: 0.2555 - val_acc: 0.9257\n"
          ],
          "name": "stdout"
        }
      ]
    },
    {
      "metadata": {
        "id": "6uP6_XG-2IzI",
        "colab_type": "text"
      },
      "cell_type": "markdown",
      "source": [
        "Plot the validation accuracy saved in `hist.history` dictionary. This gives one accuracy value per epoch.  You should see that the validation accuracy saturates at a little higher than 99%.  After that it \"bounces around\" due to the noise in the stochastic gradient descent."
      ]
    },
    {
      "metadata": {
        "id": "w2C2w82l2IzL",
        "colab_type": "code",
        "outputId": "e4448ae5-70a2-4c3f-df4f-41987002a24d",
        "colab": {
          "base_uri": "https://localhost:8080/",
          "height": 302
        }
      },
      "cell_type": "code",
      "source": [
        "# TODO\n",
        "val_acc = history_hist.val_acc\n",
        "nepochs=len(val_acc)\n",
        "plt.plot(np.arange(1,nepochs+1),val_acc,'o-')\n",
        "plt.grid()\n",
        "plt.xlabel('epochs')\n",
        "plt.ylabel('accuarcy')\n"
      ],
      "execution_count": 21,
      "outputs": [
        {
          "output_type": "execute_result",
          "data": {
            "text/plain": [
              "Text(0, 0.5, 'accuarcy')"
            ]
          },
          "metadata": {
            "tags": []
          },
          "execution_count": 21
        },
        {
          "output_type": "display_data",
          "data": {
            "image/png": "[encoded data removed]",
            "text/plain": [
              "<Figure size 432x288 with 1 Axes>"
            ]
          },
          "metadata": {
            "tags": []
          }
        }
      ]
    },
    {
      "metadata": {
        "id": "rSymmF5V2Izg",
        "colab_type": "text"
      },
      "cell_type": "markdown",
      "source": [
        "Plot the loss values saved in the `hist.history` dictionary.  You should see that the loss is steadily decreasing.  Use the `semilogy` plot."
      ]
    },
    {
      "metadata": {
        "id": "GKD-aLny2Izq",
        "colab_type": "code",
        "outputId": "129aa0c2-cc8e-4270-fedf-ff3713a7d903",
        "colab": {
          "base_uri": "https://localhost:8080/",
          "height": 302
        }
      },
      "cell_type": "code",
      "source": [
        "# TODO\n",
        "nsteps=len(history_hist.loss)\n",
        "ntr=Xtr.shape[0]\n",
        "epochs=np.arange(1,nsteps+1)*100/ntr\n",
        "plt.semilogy(epochs,history_hist.loss)\n",
        "plt.grid()\n",
        "plt.xlabel('epochs')\n",
        "plt.ylabel('loss')"
      ],
      "execution_count": 22,
      "outputs": [
        {
          "output_type": "execute_result",
          "data": {
            "text/plain": [
              "Text(0, 0.5, 'loss')"
            ]
          },
          "metadata": {
            "tags": []
          },
          "execution_count": 22
        },
        {
          "output_type": "display_data",
          "data": {
            "image/png": "[encoded data removed]",
            "text/plain": [
              "<Figure size 432x288 with 1 Axes>"
            ]
          },
          "metadata": {
            "tags": []
          }
        }
      ]
    },
    {
      "metadata": {
        "id": "emkSVNa-2Iz3",
        "colab_type": "text"
      },
      "cell_type": "markdown",
      "source": [
        "## Optimizing the Learning Rate\n",
        "\n",
        "One challenge in training neural networks is the selection of the learning rate.  Rerun the above code, trying four learning rates as shown in the vector `rates`.  For each learning rate:\n",
        "* clear the session\n",
        "* construct the network\n",
        "* select the optimizer.  Use the Adam optimizer with the appropriate learrning rate.\n",
        "* train the model for 20 epochs\n",
        "* save the accuracy and losses"
      ]
    },
    {
      "metadata": {
        "id": "RDBVvbl42Iz9",
        "colab_type": "code",
        "outputId": "a1490860-2366-45c8-b376-21858449d4e9",
        "colab": {
          "base_uri": "https://localhost:8080/",
          "height": 2393
        }
      },
      "cell_type": "code",
      "source": [
        "rates = [0.01,0.001,0.0001]\n",
        "batch_size = 100\n",
        "loss_hist = []\n",
        "val_acc_hist = []\n",
        "\n",
        "# TODO\n",
        "for lr in rates:\n",
        "  \n",
        "  K.clear_session()\n",
        "  \n",
        "  model=Sequential()\n",
        "  model.add(Dense(256,input_shape=(nin,),activation='sigmoid', name='hidden'))\n",
        "  model.add(Dense(nout,activation='softmax',name='output'))\n",
        "  \n",
        "  opt = optimizers.Adam(lr=lr)\n",
        "  model.compile(optimizer=opt,\n",
        "                loss='sparse_categorical_crossentropy',\n",
        "                metrics=['accuracy'])\n",
        "  model.fit(Xtr, ytr, \n",
        "            epochs=20, \n",
        "            batch_size=100, \n",
        "            validation_data=(Xts,yts),\n",
        "            callbacks=[history_hist]\n",
        "            )\n",
        "  \n",
        "  val_acc_hist.append(history_hist.val_acc) \n",
        "  loss_hist.append(history_hist.loss)\n",
        "  \n",
        "  print(\"lr=%12.4e accuracy=%f\" % (lr,history_hist.val_acc[-1]))"
      ],
      "execution_count": 27,
      "outputs": [
        {
          "output_type": "stream",
          "text": [
            "Train on 66247 samples, validate on 14904 samples\n",
            "Epoch 1/20\n",
            "66247/66247 [==============================] - 2s 33us/sample - loss: 0.7026 - acc: 0.7763 - val_loss: 0.3446 - val_acc: 0.8976\n",
            "Epoch 2/20\n",
            "66247/66247 [==============================] - 2s 29us/sample - loss: 0.2068 - acc: 0.9381 - val_loss: 0.1979 - val_acc: 0.9404\n",
            "Epoch 3/20\n",
            "66247/66247 [==============================] - 2s 29us/sample - loss: 0.1318 - acc: 0.9592 - val_loss: 0.1810 - val_acc: 0.9406\n",
            "Epoch 4/20\n",
            "66247/66247 [==============================] - 2s 29us/sample - loss: 0.0924 - acc: 0.9717 - val_loss: 0.1029 - val_acc: 0.9665\n",
            "Epoch 5/20\n",
            "66247/66247 [==============================] - 2s 29us/sample - loss: 0.0742 - acc: 0.9765 - val_loss: 0.1077 - val_acc: 0.9665\n",
            "Epoch 6/20\n",
            "66247/66247 [==============================] - 2s 29us/sample - loss: 0.0610 - acc: 0.9810 - val_loss: 0.1168 - val_acc: 0.9635\n",
            "Epoch 7/20\n",
            "66247/66247 [==============================] - 2s 29us/sample - loss: 0.0491 - acc: 0.9855 - val_loss: 0.1053 - val_acc: 0.9666\n",
            "Epoch 8/20\n",
            "66247/66247 [==============================] - 2s 31us/sample - loss: 0.0436 - acc: 0.9867 - val_loss: 0.0680 - val_acc: 0.9772\n",
            "Epoch 9/20\n",
            "66247/66247 [==============================] - 2s 32us/sample - loss: 0.0388 - acc: 0.9878 - val_loss: 0.0876 - val_acc: 0.9738\n",
            "Epoch 10/20\n",
            "66247/66247 [==============================] - 2s 30us/sample - loss: 0.0343 - acc: 0.9898 - val_loss: 0.0828 - val_acc: 0.9744\n",
            "Epoch 11/20\n",
            "66247/66247 [==============================] - 2s 29us/sample - loss: 0.0297 - acc: 0.9910 - val_loss: 0.1044 - val_acc: 0.9694\n",
            "Epoch 12/20\n",
            "66247/66247 [==============================] - 2s 29us/sample - loss: 0.0282 - acc: 0.9912 - val_loss: 0.1071 - val_acc: 0.9707\n",
            "Epoch 13/20\n",
            "66247/66247 [==============================] - 2s 29us/sample - loss: 0.0258 - acc: 0.9921 - val_loss: 0.1103 - val_acc: 0.9729\n",
            "Epoch 14/20\n",
            "66247/66247 [==============================] - 2s 29us/sample - loss: 0.0248 - acc: 0.9922 - val_loss: 0.5256 - val_acc: 0.9373\n",
            "Epoch 15/20\n",
            "66247/66247 [==============================] - 2s 28us/sample - loss: 0.0232 - acc: 0.9933 - val_loss: 0.0930 - val_acc: 0.9773\n",
            "Epoch 16/20\n",
            "66247/66247 [==============================] - 2s 29us/sample - loss: 0.0176 - acc: 0.9950 - val_loss: 0.0813 - val_acc: 0.9783\n",
            "Epoch 17/20\n",
            "66247/66247 [==============================] - 2s 29us/sample - loss: 0.0174 - acc: 0.9949 - val_loss: 0.1619 - val_acc: 0.9654\n",
            "Epoch 18/20\n",
            "66247/66247 [==============================] - 2s 29us/sample - loss: 0.0188 - acc: 0.9945 - val_loss: 0.0897 - val_acc: 0.9764\n",
            "Epoch 19/20\n",
            "66247/66247 [==============================] - 2s 29us/sample - loss: 0.0177 - acc: 0.9951 - val_loss: 0.1344 - val_acc: 0.9718\n",
            "Epoch 20/20\n",
            "66247/66247 [==============================] - 2s 29us/sample - loss: 0.0158 - acc: 0.9952 - val_loss: 0.0955 - val_acc: 0.9740\n",
            "lr=  1.0000e-02 accuracy=0.973967\n",
            "Train on 66247 samples, validate on 14904 samples\n",
            "Epoch 1/20\n",
            "66247/66247 [==============================] - 2s 31us/sample - loss: 1.4553 - acc: 0.5158 - val_loss: 1.4999 - val_acc: 0.5370\n",
            "Epoch 2/20\n",
            "66247/66247 [==============================] - 2s 29us/sample - loss: 0.9947 - acc: 0.6759 - val_loss: 1.0978 - val_acc: 0.6363\n",
            "Epoch 3/20\n",
            "66247/66247 [==============================] - 2s 29us/sample - loss: 0.7304 - acc: 0.7678 - val_loss: 0.8269 - val_acc: 0.7348\n",
            "Epoch 4/20\n",
            "66247/66247 [==============================] - 2s 29us/sample - loss: 0.5656 - acc: 0.8284 - val_loss: 0.6538 - val_acc: 0.8035\n",
            "Epoch 5/20\n",
            "66247/66247 [==============================] - 2s 29us/sample - loss: 0.4526 - acc: 0.8689 - val_loss: 0.5093 - val_acc: 0.8483\n",
            "Epoch 6/20\n",
            "66247/66247 [==============================] - 2s 29us/sample - loss: 0.3725 - acc: 0.8960 - val_loss: 0.4111 - val_acc: 0.8892\n",
            "Epoch 7/20\n",
            "66247/66247 [==============================] - 2s 29us/sample - loss: 0.3145 - acc: 0.9159 - val_loss: 0.3530 - val_acc: 0.9033\n",
            "Epoch 8/20\n",
            "66247/66247 [==============================] - 2s 29us/sample - loss: 0.2720 - acc: 0.9280 - val_loss: 0.3099 - val_acc: 0.9152\n",
            "Epoch 9/20\n",
            "66247/66247 [==============================] - 2s 29us/sample - loss: 0.2400 - acc: 0.9362 - val_loss: 0.2770 - val_acc: 0.9241\n",
            "Epoch 10/20\n",
            "66247/66247 [==============================] - 2s 29us/sample - loss: 0.2150 - acc: 0.9414 - val_loss: 0.2523 - val_acc: 0.9290\n",
            "Epoch 11/20\n",
            "66247/66247 [==============================] - 2s 29us/sample - loss: 0.1945 - acc: 0.9461 - val_loss: 0.2342 - val_acc: 0.9322\n",
            "Epoch 12/20\n",
            "66247/66247 [==============================] - 2s 30us/sample - loss: 0.1781 - acc: 0.9495 - val_loss: 0.2112 - val_acc: 0.9394\n",
            "Epoch 13/20\n",
            "66247/66247 [==============================] - 2s 30us/sample - loss: 0.1638 - acc: 0.9532 - val_loss: 0.1935 - val_acc: 0.9437\n",
            "Epoch 14/20\n",
            "66247/66247 [==============================] - 2s 29us/sample - loss: 0.1510 - acc: 0.9568 - val_loss: 0.1893 - val_acc: 0.9437\n",
            "Epoch 15/20\n",
            "66247/66247 [==============================] - 2s 29us/sample - loss: 0.1404 - acc: 0.9603 - val_loss: 0.1767 - val_acc: 0.9488\n",
            "Epoch 16/20\n",
            "66247/66247 [==============================] - 2s 29us/sample - loss: 0.1308 - acc: 0.9627 - val_loss: 0.1653 - val_acc: 0.9503\n",
            "Epoch 17/20\n",
            "66247/66247 [==============================] - 2s 29us/sample - loss: 0.1218 - acc: 0.9657 - val_loss: 0.1567 - val_acc: 0.9527\n",
            "Epoch 18/20\n",
            "66247/66247 [==============================] - 2s 29us/sample - loss: 0.1142 - acc: 0.9685 - val_loss: 0.1562 - val_acc: 0.9513\n",
            "Epoch 19/20\n",
            "66247/66247 [==============================] - 2s 29us/sample - loss: 0.1072 - acc: 0.9706 - val_loss: 0.1466 - val_acc: 0.9545\n",
            "Epoch 20/20\n",
            "66247/66247 [==============================] - 2s 29us/sample - loss: 0.1011 - acc: 0.9730 - val_loss: 0.1416 - val_acc: 0.9556\n",
            "lr=  1.0000e-03 accuracy=0.955649\n",
            "Train on 66247 samples, validate on 14904 samples\n",
            "Epoch 1/20\n",
            "66247/66247 [==============================] - 2s 31us/sample - loss: 1.9366 - acc: 0.3659 - val_loss: 1.9740 - val_acc: 0.3382\n",
            "Epoch 2/20\n",
            "66247/66247 [==============================] - 2s 29us/sample - loss: 1.6882 - acc: 0.4492 - val_loss: 1.8831 - val_acc: 0.3565\n",
            "Epoch 3/20\n",
            "66247/66247 [==============================] - 2s 28us/sample - loss: 1.5645 - acc: 0.4788 - val_loss: 1.8014 - val_acc: 0.3897\n",
            "Epoch 4/20\n",
            "66247/66247 [==============================] - 2s 29us/sample - loss: 1.4750 - acc: 0.5060 - val_loss: 1.7434 - val_acc: 0.4094\n",
            "Epoch 5/20\n",
            "66247/66247 [==============================] - 2s 29us/sample - loss: 1.4039 - acc: 0.5295 - val_loss: 1.6878 - val_acc: 0.4335\n",
            "Epoch 6/20\n",
            "66247/66247 [==============================] - 2s 29us/sample - loss: 1.3436 - acc: 0.5512 - val_loss: 1.6401 - val_acc: 0.4544\n",
            "Epoch 7/20\n",
            "66247/66247 [==============================] - 2s 29us/sample - loss: 1.2897 - acc: 0.5715 - val_loss: 1.5879 - val_acc: 0.4857\n",
            "Epoch 8/20\n",
            "66247/66247 [==============================] - 2s 29us/sample - loss: 1.2397 - acc: 0.5912 - val_loss: 1.5401 - val_acc: 0.5064\n",
            "Epoch 9/20\n",
            "66247/66247 [==============================] - 2s 29us/sample - loss: 1.1928 - acc: 0.6093 - val_loss: 1.4980 - val_acc: 0.5123\n",
            "Epoch 10/20\n",
            "66247/66247 [==============================] - 2s 29us/sample - loss: 1.1478 - acc: 0.6251 - val_loss: 1.4515 - val_acc: 0.5350\n",
            "Epoch 11/20\n",
            "66247/66247 [==============================] - 2s 29us/sample - loss: 1.1051 - acc: 0.6409 - val_loss: 1.4026 - val_acc: 0.5570\n",
            "Epoch 12/20\n",
            "66247/66247 [==============================] - 2s 29us/sample - loss: 1.0640 - acc: 0.6545 - val_loss: 1.3608 - val_acc: 0.5662\n",
            "Epoch 13/20\n",
            "66247/66247 [==============================] - 2s 29us/sample - loss: 1.0248 - acc: 0.6681 - val_loss: 1.3141 - val_acc: 0.5820\n",
            "Epoch 14/20\n",
            "66247/66247 [==============================] - 2s 29us/sample - loss: 0.9869 - acc: 0.6803 - val_loss: 1.2749 - val_acc: 0.5870\n",
            "Epoch 15/20\n",
            "66247/66247 [==============================] - 2s 29us/sample - loss: 0.9509 - acc: 0.6929 - val_loss: 1.2344 - val_acc: 0.6115\n",
            "Epoch 16/20\n",
            "66247/66247 [==============================] - 2s 29us/sample - loss: 0.9165 - acc: 0.7053 - val_loss: 1.1922 - val_acc: 0.6098\n",
            "Epoch 17/20\n",
            "66247/66247 [==============================] - 2s 30us/sample - loss: 0.8837 - acc: 0.7160 - val_loss: 1.1616 - val_acc: 0.6241\n",
            "Epoch 18/20\n",
            "66247/66247 [==============================] - 2s 29us/sample - loss: 0.8526 - acc: 0.7285 - val_loss: 1.1181 - val_acc: 0.6412\n",
            "Epoch 19/20\n",
            "66247/66247 [==============================] - 2s 29us/sample - loss: 0.8230 - acc: 0.7393 - val_loss: 1.0762 - val_acc: 0.6476\n",
            "Epoch 20/20\n",
            "66247/66247 [==============================] - 2s 29us/sample - loss: 0.7951 - acc: 0.7481 - val_loss: 1.0373 - val_acc: 0.6650\n",
            "lr=  1.0000e-04 accuracy=0.664989\n"
          ],
          "name": "stdout"
        }
      ]
    },
    {
      "metadata": {
        "id": "OpCADK0wxzSf",
        "colab_type": "text"
      },
      "cell_type": "markdown",
      "source": [
        "Plot the loss funciton vs. the epoch number for all three learning rates on one graph. You should see that the lower learning rates are more stable, but converge slower."
      ]
    },
    {
      "metadata": {
        "id": "as5XlhhV2I0M",
        "colab_type": "code",
        "colab": {
          "base_uri": "https://localhost:8080/",
          "height": 304
        },
        "outputId": "913c17eb-31a7-4b45-955f-b79c6fc25017"
      },
      "cell_type": "code",
      "source": [
        "# TODO\n",
        "ntest=len(loss_hist)\n",
        "ntr=Xtr.shape[0]\n",
        "\n",
        "for it,loss in enumerate(loss_hist):\n",
        "  nsteps=len(loss)\n",
        "  epochs=np.arange(1,nsteps+1)*100/ntr\n",
        "  plt.semilogy(epochs,loss)\n",
        "  rate_str=['{0:5.4f}'.format(lr) for lr in rates]\n",
        "\n",
        "plt.axis([0,np.max(epochs),1e-5,10])\n",
        "plt.grid()\n",
        "plt.xlabel('epochs')\n",
        "plt.ylabel('loss')"
      ],
      "execution_count": 29,
      "outputs": [
        {
          "output_type": "execute_result",
          "data": {
            "text/plain": [
              "Text(0, 0.5, 'loss')"
            ]
          },
          "metadata": {
            "tags": []
          },
          "execution_count": 29
        },
        {
          "output_type": "display_data",
          "data": {
            "image/png": "[encoded data removed]",
            "text/plain": [
              "<Figure size 432x288 with 1 Axes>"
            ]
          },
          "metadata": {
            "tags": []
          }
        }
      ]
    },
    {
      "metadata": {
        "id": "JS-SdtZy2I0b",
        "colab_type": "code",
        "colab": {}
      },
      "cell_type": "code",
      "source": [
        ""
      ],
      "execution_count": 0,
      "outputs": []
    }
  ]
}