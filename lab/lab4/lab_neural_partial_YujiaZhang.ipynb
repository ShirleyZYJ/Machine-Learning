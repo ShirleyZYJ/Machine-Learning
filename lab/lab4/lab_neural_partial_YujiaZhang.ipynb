{
  "nbformat": 4,
  "nbformat_minor": 0,
  "metadata": {
    "colab": {
      "name": "lab_neural_partial_YujiaZhang.ipynb",
      "version": "0.3.2",
      "provenance": [],
      "collapsed_sections": []
    },
    "kernelspec": {
      "display_name": "Python 3",
      "language": "python",
      "name": "python3"
    }
  },
  "cells": [
    {
      "metadata": {
        "id": "rnXr4WvW1l3N",
        "colab_type": "text"
      },
      "cell_type": "markdown",
      "source": [
        "# Lab:  Model Order Selection for Neural Data\n",
        "\n",
        "Machine learning is a key tool for neuroscientists to understand how sensory and motor signals are encoded in the brain.  In addition to improving our scientific understanding of neural phenomena, understanding neural encoding is critical for brain machine interfaces.  In this lab, you will use model selection for performing some simple analysis on real neural signals.  \n",
        "\n",
        "Before doing this lab, you should review the ideas in the [polynomial model selection demo](./polyfit.ipynb).  In addition to the concepts in that demo, you will learn to:\n",
        "* Represent neural time-series data in arrays\n",
        "* Load data from a pickle file\n",
        "* Describe and fit memoryless linear models\n",
        "* Describe and fit linear time-series models with delays\n",
        "* Fit linear models with multiple target outputs\n",
        "* Select the optimal delay via cross-validation"
      ]
    },
    {
      "metadata": {
        "id": "AQ2fDVyb1l3W",
        "colab_type": "text"
      },
      "cell_type": "markdown",
      "source": [
        "## Loading the data\n",
        "\n",
        "The data in this lab comes from neural recordings described in:\n",
        "\n",
        "<a href=\"http://jn.physiology.org/content/106/2/764.short\">\n",
        "Stevenson, Ian H., et al. \"Statistical assessment of the stability of neural movement representations.\" Journal of neurophysiology 106.2 (2011): 764-774</a>\n",
        "\n",
        "Neurons are the basic information processing units in the brain.  Neurons communicate with one another via *spikes* or *action potentials* which are brief events where voltage in the neuron rapidly rises then falls.  These spikes trigger the electro-chemical signals between one neuron and another.  In this experiment, the spikes were recorded from 196 neurons in the primary motor cortex (M1) of a monkey using an electrode array implanted onto the surface of a monkey's brain.  During the recording, the monkey performed several reaching tasks and the position and velocity of the hand was recorded as well.  \n",
        "\n",
        "The goal of the experiment is to try to *read the monkey's brain*:  That is, predict the hand motion from the neural signals from the motor cortex.\n",
        "\n",
        "We first load the key packages."
      ]
    },
    {
      "metadata": {
        "id": "3VDqb1oH1l3Z",
        "colab_type": "code",
        "colab": {}
      },
      "cell_type": "code",
      "source": [
        "import numpy as np\n",
        "import matplotlib.pyplot as plt\n",
        "import pickle\n",
        "\n",
        "from sklearn.linear_model import LinearRegression\n",
        "from sklearn.metrics import r2_score"
      ],
      "execution_count": 0,
      "outputs": []
    },
    {
      "metadata": {
        "id": "lWvEFIXd1l3r",
        "colab_type": "text"
      },
      "cell_type": "markdown",
      "source": [
        "The full data is available on the CRCNS website  http://crcns.org/data-sets/movements/dream.  This website has a large number of great datasets and can be used for projects as well.  However, the raw data files can be quite large.  To make the lab easier, the [Kording lab](http://kordinglab.com/) at UPenn has put together an excellent [repository](https://github.com/KordingLab/Neural_Decoding) where they have created simple pre-processed versions of the data.  You can download the file `example_data_s1.pickle` from the [Dropbox link](https://www.dropbox.com/sh/n4924ipcfjqc0t6/AADOv9JYMUBK1tlg9P71gSSra/example_data_s1.pickle?dl=0).  Alternatively, you can directly run the following code.  This may take a little while to download since the file is 26 MB."
      ]
    },
    {
      "metadata": {
        "id": "Pt4-rx9N1l34",
        "colab_type": "code",
        "colab": {}
      },
      "cell_type": "code",
      "source": [
        "fn_src = 'https://www.dropbox.com/sh/n4924ipcfjqc0t6/AADOv9JYMUBK1tlg9P71gSSra/example_data_s1.pickle?dl=1'\n",
        "fn_dst = 'example_data_s1.pickle'\n",
        "\n",
        "import os\n",
        "from six.moves import urllib\n",
        "\n",
        "if os.path.isfile(fn_dst):\n",
        "    print('File %s is already downloaded' % fn_dst)\n",
        "else:        \n",
        "    urllib.request.urlretrieve(fn_src, fn_dst)"
      ],
      "execution_count": 0,
      "outputs": []
    },
    {
      "metadata": {
        "id": "pwsTGty11l4I",
        "colab_type": "text"
      },
      "cell_type": "markdown",
      "source": [
        "The file is a *pickle* data structure, which is a package to serialize python objects into data files.  Once you have downloaded the file, you can run the following command to retrieve the data from the pickle file."
      ]
    },
    {
      "metadata": {
        "id": "K_Y1CAQT1l4K",
        "colab_type": "code",
        "colab": {}
      },
      "cell_type": "code",
      "source": [
        "with open('example_data_s1.pickle', 'rb') as fp:\n",
        "    X,y = pickle.load(fp)"
      ],
      "execution_count": 0,
      "outputs": []
    },
    {
      "metadata": {
        "id": "nzX_QqEY1l4V",
        "colab_type": "text"
      },
      "cell_type": "markdown",
      "source": [
        "The matrix `X` is matrix of spike counts where `X[i,j]` is the number of spikes from neuron `j` in time bin `i`.\n",
        "The matrix `y` has two columns:\n",
        "* `y[i,0] = ` velocity of the monkey's hand in the x-direction\n",
        "* `y[i,1] = ` velocity of the monkey's hand in the y-direction\n",
        "Our goal will be to predict `y` from `X`.  \n",
        "\n",
        "Each time bin represent `tsamp=0.05` seconds of time.  Using `X.shape` and `y.shape` compute and print:\n",
        "* `nt = ` the total number of time bins\n",
        "* `nneuron = ` the total number of neurons\n",
        "* `nout = ` the total number of output variables to track = number of columns in `y`\n",
        "* `ttotal = ` total time of the experiment is seconds. "
      ]
    },
    {
      "metadata": {
        "id": "sjJevrbm1l4X",
        "colab_type": "code",
        "outputId": "32f1af0e-3435-41d3-cc82-c57fef16c8ed",
        "colab": {
          "base_uri": "https://localhost:8080/",
          "height": 91
        }
      },
      "cell_type": "code",
      "source": [
        "tsamp = 0.05  # sampling time in seconds\n",
        "\n",
        "# TODO\n",
        "# nt = ...\n",
        "# nneuron = ..\n",
        "# nout = ...\n",
        "nt = X.shape[0]\n",
        "nneuron = X.shape[1]\n",
        "nout = y.shape[1]\n",
        "ttotal = tsamp*nt\n",
        "\n",
        "print(\"The total number of time bins is \", nt)\n",
        "print(\"The total number of neurons is \", nneuron)\n",
        "print(\"The total number of output variables to track \", nout)\n",
        "print(\"The total time of the experiment is \",ttotal, \"seconds\")\n"
      ],
      "execution_count": 5,
      "outputs": [
        {
          "output_type": "stream",
          "text": [
            "The total number of time bins is  61339\n",
            "The total number of neurons is  52\n",
            "The total number of output variables to track  2\n",
            "The total time of the experiment is  3066.9500000000003 seconds\n"
          ],
          "name": "stdout"
        }
      ]
    },
    {
      "metadata": {
        "id": "hsuOC3OWbiwE",
        "colab_type": "code",
        "colab": {
          "base_uri": "https://localhost:8080/",
          "height": 54
        },
        "outputId": "0fc3274a-53b0-4aa0-d8e1-d39bde94e825"
      },
      "cell_type": "code",
      "source": [
        "print(X.shape)\n",
        "print(y.shape)"
      ],
      "execution_count": 71,
      "outputs": [
        {
          "output_type": "stream",
          "text": [
            "(61339, 52)\n",
            "(61339, 2)\n"
          ],
          "name": "stdout"
        }
      ]
    },
    {
      "metadata": {
        "id": "yNFgkDCk1l4d",
        "colab_type": "text"
      },
      "cell_type": "markdown",
      "source": [
        "## Fitting a Memoryless Linear Model\n",
        "\n",
        "Let's first try a simple linear regression model to fit the data.\n",
        "\n",
        "First, use the `train_test_split` function to split the data into training and test.  Let `Xtr,ytr` be the training data set and `Xts,yts` be the test data set.  Use `test_size=0.33` so `1/3` of the data is used for test."
      ]
    },
    {
      "metadata": {
        "id": "fyzGq8Q91l4l",
        "colab_type": "code",
        "colab": {}
      },
      "cell_type": "code",
      "source": [
        "from sklearn.model_selection import train_test_split\n",
        "\n",
        "# TODO\n",
        "# Xtr, Xts, ytr, yts = ...\n",
        "Xtr, Xts, ytr, yts = train_test_split(X, y, test_size=0.33)"
      ],
      "execution_count": 0,
      "outputs": []
    },
    {
      "metadata": {
        "id": "DdiPHr601l4v",
        "colab_type": "text"
      },
      "cell_type": "markdown",
      "source": [
        "Now, fit a linear model using `Xtr,ytr`.  Make a prediction  `yhat` using `Xts`.  Compare `yhat` to `yts` to measure `rsq`, the  `R^2`.  You can use the `r2_score` method. Print the `rsq` value.  You should get `rsq` of around `0.45`. "
      ]
    },
    {
      "metadata": {
        "id": "hZLUZC881l42",
        "colab_type": "code",
        "outputId": "b4f76b24-b388-4a86-8ac0-ef954e98bfe8",
        "colab": {
          "base_uri": "https://localhost:8080/",
          "height": 35
        }
      },
      "cell_type": "code",
      "source": [
        "import sklearn.linear_model\n",
        "from sklearn.metrics import r2_score\n",
        "# TODO\n",
        "# yhat = ...\n",
        "# rsq = ...\n",
        "regr = sklearn.linear_model.LinearRegression()\n",
        "regr.fit(Xtr, ytr)\n",
        "yhat = regr.predict(Xts)\n",
        "rsq = r2_score(yts, yhat)\n",
        "print(rsq)"
      ],
      "execution_count": 7,
      "outputs": [
        {
          "output_type": "stream",
          "text": [
            "0.46967904866547755\n"
          ],
          "name": "stdout"
        }
      ]
    },
    {
      "metadata": {
        "id": "RTs4XRrx1l5B",
        "colab_type": "text"
      },
      "cell_type": "markdown",
      "source": [
        "It is useful to plot the predicted vs. true values.  Since we have two outputs, create two `subplots` using the `plt.subplot()` command.  In plot `i=0,1`, plot `yhat[:,i]` vs. `yts[:,i]` with a scatter plot.   Label the axes of the plots.  You may also use the command:\n",
        "\n",
        "    plt.figure(figsize=(10,5))\n",
        "    \n",
        "to make the figures a little larger."
      ]
    },
    {
      "metadata": {
        "id": "ZtLX1mBy1l5G",
        "colab_type": "code",
        "outputId": "e5224af3-cd8e-4277-cb7f-38b9b6bd184a",
        "colab": {
          "base_uri": "https://localhost:8080/",
          "height": 379
        }
      },
      "cell_type": "code",
      "source": [
        "# TODO\n",
        "#y[i,0] = velocity of the monkey's hand in the x-direction\n",
        "#y[i,1] = velocity of the monkey's hand in the y-direction Our goal will be to predict y from X.\n",
        "\n",
        "plt.subplot(121)\n",
        "plt.xlabel('True velocity in x-direction')\n",
        "plt.ylabel('Predicted velocity in x-direction')\n",
        "plt.scatter(yts[:,0],yhat[:,0])\n",
        "\n",
        "\n",
        "plt.subplot(122)\n",
        "plt.xlabel('True velocity in y-direction')\n",
        "plt.ylabel('Predicted velocity in y-direction')\n",
        "plt.scatter(yts[:,1],yhat[:,1])\n",
        "\n",
        "#plt.savefig('velocity.png')\n",
        "plt.figure(figsize=(10,5))\n",
        "\n",
        "plt.show()"
      ],
      "execution_count": 8,
      "outputs": [
        {
          "output_type": "display_data",
          "data": {
            "image/png": "[encoded data removed]",
            "text/plain": [
              "<Figure size 576x396 with 2 Axes>"
            ]
          },
          "metadata": {
            "tags": []
          }
        },
        {
          "output_type": "display_data",
          "data": {
            "text/plain": [
              "<Figure size 720x360 with 0 Axes>"
            ]
          },
          "metadata": {
            "tags": []
          }
        }
      ]
    },
    {
      "metadata": {
        "id": "fyz40CU21l5W",
        "colab_type": "text"
      },
      "cell_type": "markdown",
      "source": [
        "## Fitting Models with Delay\n",
        "\n",
        "One way we can improve the model accuracy is to used delayed version of the features.  Specifically, the model we used above mapped the features \n",
        "\n",
        "    yhat[i,k] = \\sum_{j=0}^{p-1} X[i,j]*w[j,k] + b[k]\n",
        "    \n",
        "where `p` is the number of features and `w[j,k]` is a matrix of coefficients.  In this model,  `yhat[i,:]` at time `i` was only dependent on the inputs  `X[i,:]` at time `i`.  In signal processing, this is called a *memoryless* model.  However, in many physical systems, such as those that arise in neuroscience, there is a delay between the inputs `X[i,:]` and the outputs `y[i]`.  For such cases, we can use a model of the form,\n",
        "\n",
        "    yhat[i+d,k] = \\sum_{k=0}^d  \\sum_{j=0}^{p-1} \\sum_{m=0}^d X[i+m,j]*W[j,m,k] + b[k]\n",
        "    \n",
        "where `W` is a 3-dim array of coefficients where:\n",
        "\n",
        "    W[j,m,k] is the influence of the input X[i+m,j] onto output y[i+d,k]\n",
        "\n",
        "\n",
        "In signal processing, this model is called an *FIR* filter and `W[j,:,k]` is the *impulse response* from the `j`-th input to the `k`-th output.  The point is that the output at time `i+d` depends on the inputs at times `i,i+1,...,i+d`.  Hence, it depends on the last `d+1` time steps, not just the most recent time.\n",
        "\n",
        "To translate this into a linear regression problem, complete the following function that creates a new feature and target matrix where:\n",
        "\n",
        "    Xdly[i,:] has the rows X[i,:], X[i++1,:], ..., X[i+dly,:]\n",
        "    ydly[i,:] = y[i+dly,:]\n",
        "    \n",
        "Thus, `Xdly[i,:]` contains all the delayed fetaures for the target `yhat`.  Note that if `X` is `n x p` then `Xdly` will be `n-dly x (dly+1)*p`.  \n"
      ]
    },
    {
      "metadata": {
        "id": "_POALdqC1l5Y",
        "colab_type": "code",
        "colab": {}
      },
      "cell_type": "code",
      "source": [
        "def create_dly_data(X,y,dly):\n",
        "    \"\"\"\n",
        "    Create delayed data\n",
        "    \"\"\"    \n",
        "    # TODO\n",
        "    # Xdly = ...\n",
        "    # ydly = ...\n",
        "    Xdly = X[:X.shape[0]-dly,:]\n",
        "    for i in range (1,dly+1):\n",
        "      Xdly = np.hstack((Xdly, X[i:X.shape[0]-dly+i, :]))\n",
        "    ydly = y[dly:,:]\n",
        "    return Xdly, ydly\n"
      ],
      "execution_count": 0,
      "outputs": []
    },
    {
      "metadata": {
        "id": "2gZn15Y21l5e",
        "colab_type": "text"
      },
      "cell_type": "markdown",
      "source": [
        "Now fit an linear delayed model with `dly=6` additional delay lags.  That is,\n",
        "* Create delayed data `Xdly,ydly=create_dly_data(X,y,dly=6)`\n",
        "* Split the data into training and test as before\n",
        "* Fit the model on the training data\n",
        "* Measure the `R^2` score on the test data\n",
        "\n",
        "If you did this correctly, you should get a new `R^2` score around 0.69.  This is significantly better than the memoryless models."
      ]
    },
    {
      "metadata": {
        "id": "UAf7LJI91l5i",
        "colab_type": "code",
        "colab": {
          "base_uri": "https://localhost:8080/",
          "height": 35
        },
        "outputId": "30de26f4-8e86-4da1-e547-8bbda9e51597"
      },
      "cell_type": "code",
      "source": [
        "# TODO\n",
        "Xdly,ydly=create_dly_data(X,y,dly=6)\n",
        "Xtr_dly, Xts_dly, ytr_dly, yts_dly = train_test_split(Xdly, ydly, test_size=0.33)\n",
        "regr = sklearn.linear_model.LinearRegression()\n",
        "regr.fit(Xtr_dly, ytr_dly)\n",
        "yhat_dly = regr.predict(Xts_dly)\n",
        "rsq_dly = r2_score(yts_dly, yhat_dly)\n",
        "\n",
        "print(rsq_dly)"
      ],
      "execution_count": 10,
      "outputs": [
        {
          "output_type": "stream",
          "text": [
            "0.6919042013759372\n"
          ],
          "name": "stdout"
        }
      ]
    },
    {
      "metadata": {
        "id": "Ah6wLDGE1l5q",
        "colab_type": "text"
      },
      "cell_type": "markdown",
      "source": [
        "Plot the predicted vs. true values as before. You should visually see a better fit."
      ]
    },
    {
      "metadata": {
        "id": "DIti5x_M1l5s",
        "colab_type": "code",
        "colab": {
          "base_uri": "https://localhost:8080/",
          "height": 380
        },
        "outputId": "fea17051-a710-41a0-ad8c-699db2c6d8e7"
      },
      "cell_type": "code",
      "source": [
        "# TODO\n",
        "plt.subplot(121)\n",
        "plt.xlabel('True velocity in x-direction')\n",
        "plt.ylabel('Predicted velocity in x-direction')\n",
        "plt.scatter(yts_dly[:,0],yhat_dly[:,0])\n",
        "\n",
        "\n",
        "plt.subplot(122)\n",
        "plt.xlabel('True velocity in y-direction')\n",
        "plt.ylabel('Predicted velocity in y-direction')\n",
        "plt.scatter(yts_dly[:,1],yhat_dly[:,1])\n",
        "\n",
        "#plt.savefig('velocity.png')\n",
        "plt.figure(figsize=(10,5))\n",
        "\n",
        "plt.show()"
      ],
      "execution_count": 11,
      "outputs": [
        {
          "output_type": "display_data",
          "data": {
            "image/png": "[encoded data removed]",
            "text/plain": [
              "<Figure size 576x396 with 2 Axes>"
            ]
          },
          "metadata": {
            "tags": []
          }
        },
        {
          "output_type": "display_data",
          "data": {
            "text/plain": [
              "<Figure size 720x360 with 0 Axes>"
            ]
          },
          "metadata": {
            "tags": []
          }
        }
      ]
    },
    {
      "metadata": {
        "id": "uqm1jKYJ1l57",
        "colab_type": "text"
      },
      "cell_type": "markdown",
      "source": [
        "*Note*:  Fitting an FIR model with the above method is very inefficient when the number of delays, `dly` is large.  In the above method, the number of columns of `X` grows from `p` to `(dly+1)*p` and the computations become expensive with `dly` is large.  We will describe a much faster way to fit such models using gradient descent when we talk about convolutional neural networks."
      ]
    },
    {
      "metadata": {
        "id": "pWUL2VYl1l59",
        "colab_type": "text"
      },
      "cell_type": "markdown",
      "source": [
        "## Selecting the Optimal Delay via Model Order Selection\n",
        "\n",
        "In the previous example, we fixed `dly=6`.  We can now select the optimal delay using model order selection.  Since we have a large number of data samples, it turns out that the optimal model order uses a very high delay.  Using the above fitting method, the computations take too long.  So, to simplify the lab, we will first just pretent that we have a very limited data set.\n",
        "\n",
        "Compute `Xred` and `yred` by taking the first `nred=6000` samples of the data `X` and `y`.  This is about 10% of the overall data."
      ]
    },
    {
      "metadata": {
        "id": "OKWsQrx-1l5-",
        "colab_type": "code",
        "colab": {}
      },
      "cell_type": "code",
      "source": [
        "nred = 6000\n",
        "\n",
        "# TODO\n",
        "# Xred = ...\n",
        "# yred = ...\n",
        "Xred = X[:nred,:]\n",
        "yred = y[:nred,:]"
      ],
      "execution_count": 0,
      "outputs": []
    },
    {
      "metadata": {
        "id": "ThFCwS8w1l6H",
        "colab_type": "text"
      },
      "cell_type": "markdown",
      "source": [
        "We will look at model orders up to `dmax=15`.  Create a delayed matrix data, `Xdly,ydly` from the reduced data, `Xred,yred` using `create_dly_data` with `dly=dmax`."
      ]
    },
    {
      "metadata": {
        "id": "CDwNwvYU1l6I",
        "colab_type": "code",
        "colab": {}
      },
      "cell_type": "code",
      "source": [
        "dmax = 15\n",
        "\n",
        "# TODO\n",
        "# Xdly, ydly = ...\n",
        "Xdly,ydly=create_dly_data(Xred,yred,dly=dmax)"
      ],
      "execution_count": 0,
      "outputs": []
    },
    {
      "metadata": {
        "id": "oW2_j6KJ8gbp",
        "colab_type": "code",
        "colab": {
          "base_uri": "https://localhost:8080/",
          "height": 35
        },
        "outputId": "8dc8870d-a763-47af-e564-93ec9528bfd9"
      },
      "cell_type": "code",
      "source": [
        "print(Xdly.shape)"
      ],
      "execution_count": 14,
      "outputs": [
        {
          "output_type": "stream",
          "text": [
            "(5985, 832)\n"
          ],
          "name": "stdout"
        }
      ]
    },
    {
      "metadata": {
        "id": "nwlKPOcP1l6W",
        "colab_type": "text"
      },
      "cell_type": "markdown",
      "source": [
        "Complete the following code to implement K-fold cross validation with `nfold=5` and values of delays `dtest = [0,1,...,dmax]`."
      ]
    },
    {
      "metadata": {
        "id": "k7J4yxZC1l6c",
        "colab_type": "code",
        "colab": {
          "base_uri": "https://localhost:8080/",
          "height": 109
        },
        "outputId": "73a8d621-f0bd-401f-9ee5-d5ab4d377813"
      },
      "cell_type": "code",
      "source": [
        "import  sklearn.model_selection \n",
        "\n",
        "# Number of folds\n",
        "nfold = 5\n",
        "\n",
        "# TODO:  Create a k-fold object\n",
        "# kf = sklearn.model_selection.KFold(...)\n",
        "kf = sklearn.model_selection.KFold(n_splits=nfold,shuffle=True)\n",
        "\n",
        "# TODO:  Model orders to be tested\n",
        "# dtest = vector [0,1,...,dmax]  \n",
        "# nd = len(dtest)\n",
        "dtest = np.arange(dmax) \n",
        "nd = len(dtest)\n",
        "\n",
        "# TODO.  \n",
        "# Initialize a matrix Rsq to hold values of the R^2 across the model orders and folds.\n",
        "# Rsq = np.zeros(...)\n",
        "\n",
        "# Loop over the folds\n",
        "Rsq = np.zeros((nd,nfold))\n",
        "for isplit, Ind in enumerate(kf.split(Xdly)):\n",
        "    \n",
        "    print(\"fold = %d \" % isplit)\n",
        "    \n",
        "    # Get the training data in the split\n",
        "    Itr, Its = Ind        \n",
        "\n",
        "    for it, d in enumerate(dtest):\n",
        "        # TODO:  \n",
        "        # Xdly1 = Xdly with the columns corresponding to only the `d+1` most recent times.\n",
        "        # Get the last several rows of the matrix\n",
        "        Xdly1 = Xdly[:, Xdly.shape[1]-X.shape[1]*(d+1):]\n",
        "\n",
        "        # TODO\n",
        "        # Split the data (Xdly1,ydly) into training and test\n",
        "        Xtr = Xdly1[Itr]\n",
        "        ytr = ydly[Itr]\n",
        "        Xts = Xdly1[Its]\n",
        "        yts = ydly[Its]\n",
        "        \n",
        "        # TODO:  Fit data on training data\n",
        "        regr.fit(Xtr,ytr)\n",
        "        \n",
        "        # TODO:  Measure the R^2 vale on test data and store in the matrix Rsq \n",
        "        yhat = regr.predict(Xts)\n",
        "        Rsq[it,isplit] = r2_score(yts, yhat)"
      ],
      "execution_count": 17,
      "outputs": [
        {
          "output_type": "stream",
          "text": [
            "fold = 0 \n",
            "fold = 1 \n",
            "fold = 2 \n",
            "fold = 3 \n",
            "fold = 4 \n"
          ],
          "name": "stdout"
        }
      ]
    },
    {
      "metadata": {
        "id": "-qZAR4pn1l6l",
        "colab_type": "text"
      },
      "cell_type": "markdown",
      "source": [
        "Compute the mean and standard error of the `R^2` values as a function of the model order `d`.  Use a `plt.errorbar` plot.  Label your axes."
      ]
    },
    {
      "metadata": {
        "id": "ca3Vji0K1l6n",
        "colab_type": "code",
        "colab": {
          "base_uri": "https://localhost:8080/",
          "height": 379
        },
        "outputId": "32c309a9-9870-4642-8598-4030f098efd5"
      },
      "cell_type": "code",
      "source": [
        "# TODO\n",
        "Rsq_mean = np.mean(Rsq, axis = 1)\n",
        "Rsq_std = np.std(Rsq, axis = 1)/np.sqrt(nfold-1)\n",
        "\n",
        "plt.errorbar(dtest, Rsq_mean, yerr=Rsq_std, fmt='-')\n",
        "plt.grid()\n",
        "plt.xlabel('Model order')\n",
        "plt.ylabel('Test Rsq')"
      ],
      "execution_count": 18,
      "outputs": [
        {
          "output_type": "execute_result",
          "data": {
            "text/plain": [
              "Text(0, 0.5, 'Test Rsq')"
            ]
          },
          "metadata": {
            "tags": []
          },
          "execution_count": 18
        },
        {
          "output_type": "display_data",
          "data": {
            "image/png": "[encoded data removed]",
            "text/plain": [
              "<Figure size 576x396 with 1 Axes>"
            ]
          },
          "metadata": {
            "tags": []
          }
        }
      ]
    },
    {
      "metadata": {
        "id": "oIAnjOq01l6u",
        "colab_type": "text"
      },
      "cell_type": "markdown",
      "source": [
        "Find the optimal order `d` with the normal rule (i.e. highest test `R^2`)"
      ]
    },
    {
      "metadata": {
        "id": "FsUWiECn1l6v",
        "colab_type": "code",
        "colab": {
          "base_uri": "https://localhost:8080/",
          "height": 35
        },
        "outputId": "046aea0d-193e-45c1-e5dd-52ffb9044f57"
      },
      "cell_type": "code",
      "source": [
        "# TODO\n",
        "imax = np.argmax(Rsq_mean)\n",
        "dmax = dtest[imax]\n",
        "dopt = dtest[dmax]\n",
        "\n",
        "print(\"The optimal model order via normal rule is \", dopt)"
      ],
      "execution_count": 19,
      "outputs": [
        {
          "output_type": "stream",
          "text": [
            "The optimal model order via normal rule is  8\n"
          ],
          "name": "stdout"
        }
      ]
    },
    {
      "metadata": {
        "id": "BTtrdBGU1l7D",
        "colab_type": "text"
      },
      "cell_type": "markdown",
      "source": [
        "Now find the optimal model order via the one SE rule (i.e. highest test `R^2` within on SE)"
      ]
    },
    {
      "metadata": {
        "id": "GFFPGdvk1l7E",
        "colab_type": "code",
        "colab": {
          "base_uri": "https://localhost:8080/",
          "height": 35
        },
        "outputId": "f4648b3e-ac7a-47c2-c33d-baa8033bf498"
      },
      "cell_type": "code",
      "source": [
        "# TODO\n",
        "imax = np.argmax(Rsq_mean)\n",
        "dmax = dtest[imax]\n",
        "Rsq_tgt = Rsq_mean[imax] - Rsq_std[imax]\n",
        "iopt = np.where(Rsq_mean >= Rsq_tgt)[0][0]\n",
        "dopt = dtest[iopt]\n",
        "\n",
        "print(\"The optimal model order via one SE rule is \", dopt)"
      ],
      "execution_count": 23,
      "outputs": [
        {
          "output_type": "stream",
          "text": [
            "The optimal model order via one SE rule is  7\n"
          ],
          "name": "stdout"
        }
      ]
    },
    {
      "metadata": {
        "id": "yKvsTmcZ1l7S",
        "colab_type": "code",
        "colab": {}
      },
      "cell_type": "code",
      "source": [
        ""
      ],
      "execution_count": 0,
      "outputs": []
    }
  ]
}