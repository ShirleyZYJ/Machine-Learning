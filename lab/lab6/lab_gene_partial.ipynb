{
  "nbformat": 4,
  "nbformat_minor": 0,
  "metadata": {
    "colab": {
      "name": "lab_gene_partial.ipynb",
      "version": "0.3.2",
      "provenance": [],
      "collapsed_sections": []
    },
    "kernelspec": {
      "display_name": "Python 3",
      "language": "python",
      "name": "python3"
    }
  },
  "cells": [
    {
      "metadata": {
        "id": "_KjI1aUSb9Dd",
        "colab_type": "text"
      },
      "cell_type": "markdown",
      "source": [
        "# Lab:  Logistic Regression for Gene Expression Data\n",
        "\n",
        "In this lab, we use logistic regression to predict biological characteristics (\"phenotypes\") from gene expression data.  In addition to the concepts in [breast cancer demo](./demo04_breast_cancer.ipynb), you will learn to:\n",
        "* Handle missing data\n",
        "* Perform binary classification, and evaluating performance using various metrics\n",
        "* Perform multi-class logistic classification, and evaluating performance using accuracy and confusion matrix\n",
        "* Use L1-regularization to promote sparse weights for improved estimation (Grad students only)\n",
        "\n",
        "## Background\n",
        "\n",
        "Genes are the basic unit in the DNA and encode blueprints for proteins.  When proteins are synthesized from a gene, the gene is said to \"express\".  Micro-arrays are devices that measure the expression levels of large numbers of genes in parallel.  By finding correlations between expression levels and phenotypes, scientists can identify possible genetic markers for biological characteristics.\n",
        "\n",
        "The data in this lab comes from:\n",
        "\n",
        "https://archive.ics.uci.edu/ml/datasets/Mice+Protein+Expression\n",
        "\n",
        "In this data, mice were characterized by three properties:\n",
        "* Whether they had down's syndrome (trisomy) or not\n",
        "* Whether they were stimulated to learn or not\n",
        "* Whether they had a drug memantine or a saline control solution.\n",
        "\n",
        "With these three choices, there are 8 possible classes for each mouse.  For each mouse, the expression levels were measured across 77 genes.  We will see if the characteristics can be predicted from the gene expression levels.  This classification could reveal which genes are potentially involved in Down's syndrome and if drugs and learning have any noticeable effects.\n"
      ]
    },
    {
      "metadata": {
        "id": "0pE53gUAb9Dm",
        "colab_type": "text"
      },
      "cell_type": "markdown",
      "source": [
        "## Load the Data\n",
        "\n",
        "We begin by loading the standard modules."
      ]
    },
    {
      "metadata": {
        "id": "HI2Wi1VGb9Dr",
        "colab_type": "code",
        "colab": {}
      },
      "cell_type": "code",
      "source": [
        "import pandas as pd\n",
        "import numpy as np\n",
        "import matplotlib\n",
        "import matplotlib.pyplot as plt\n",
        "%matplotlib inline\n",
        "from sklearn import linear_model, preprocessing"
      ],
      "execution_count": 0,
      "outputs": []
    },
    {
      "metadata": {
        "id": "e45NZVIEb9D8",
        "colab_type": "text"
      },
      "cell_type": "markdown",
      "source": [
        "Use the `pd.read_excel` command to read the data from \n",
        "\n",
        "https://archive.ics.uci.edu/ml/machine-learning-databases/00342/Data_Cortex_Nuclear.xls\n",
        "\n",
        "into a dataframe `df`.  Use the `index_col` option to specify that column 0 is the index.  Use the `df.head()` to print the first few rows."
      ]
    },
    {
      "metadata": {
        "id": "lYiM2n5ub9ED",
        "colab_type": "code",
        "colab": {
          "base_uri": "https://localhost:8080/",
          "height": 287
        },
        "outputId": "297979c3-6412-420b-f918-1493158b39ec"
      },
      "cell_type": "code",
      "source": [
        "# TODO\n",
        "df = pd.read_excel('https://archive.ics.uci.edu/ml/machine-learning-databases/00342/' + 'Data_Cortex_Nuclear.xls', index_col = 0)\n",
        "df.head()"
      ],
      "execution_count": 22,
      "outputs": [
        {
          "output_type": "execute_result",
          "data": {
            "text/html": [
              "<div>\n",
              "<style scoped>\n",
              "    .dataframe tbody tr th:only-of-type {\n",
              "        vertical-align: middle;\n",
              "    }\n",
              "\n",
              "    .dataframe tbody tr th {\n",
              "        vertical-align: top;\n",
              "    }\n",
              "\n",
              "    .dataframe thead th {\n",
              "        text-align: right;\n",
              "    }\n",
              "</style>\n",
              "<table border=\"1\" class=\"dataframe\">\n",
              "  <thead>\n",
              "    <tr style=\"text-align: right;\">\n",
              "      <th></th>\n",
              "      <th>DYRK1A_N</th>\n",
              "      <th>ITSN1_N</th>\n",
              "      <th>BDNF_N</th>\n",
              "      <th>NR1_N</th>\n",
              "      <th>NR2A_N</th>\n",
              "      <th>pAKT_N</th>\n",
              "      <th>pBRAF_N</th>\n",
              "      <th>pCAMKII_N</th>\n",
              "      <th>pCREB_N</th>\n",
              "      <th>pELK_N</th>\n",
              "      <th>...</th>\n",
              "      <th>pCFOS_N</th>\n",
              "      <th>SYP_N</th>\n",
              "      <th>H3AcK18_N</th>\n",
              "      <th>EGR1_N</th>\n",
              "      <th>H3MeK4_N</th>\n",
              "      <th>CaNA_N</th>\n",
              "      <th>Genotype</th>\n",
              "      <th>Treatment</th>\n",
              "      <th>Behavior</th>\n",
              "      <th>class</th>\n",
              "    </tr>\n",
              "    <tr>\n",
              "      <th>MouseID</th>\n",
              "      <th></th>\n",
              "      <th></th>\n",
              "      <th></th>\n",
              "      <th></th>\n",
              "      <th></th>\n",
              "      <th></th>\n",
              "      <th></th>\n",
              "      <th></th>\n",
              "      <th></th>\n",
              "      <th></th>\n",
              "      <th></th>\n",
              "      <th></th>\n",
              "      <th></th>\n",
              "      <th></th>\n",
              "      <th></th>\n",
              "      <th></th>\n",
              "      <th></th>\n",
              "      <th></th>\n",
              "      <th></th>\n",
              "      <th></th>\n",
              "      <th></th>\n",
              "    </tr>\n",
              "  </thead>\n",
              "  <tbody>\n",
              "    <tr>\n",
              "      <th>309_1</th>\n",
              "      <td>0.503644</td>\n",
              "      <td>0.747193</td>\n",
              "      <td>0.430175</td>\n",
              "      <td>2.816329</td>\n",
              "      <td>5.990152</td>\n",
              "      <td>0.218830</td>\n",
              "      <td>0.177565</td>\n",
              "      <td>2.373744</td>\n",
              "      <td>0.232224</td>\n",
              "      <td>1.750936</td>\n",
              "      <td>...</td>\n",
              "      <td>0.108336</td>\n",
              "      <td>0.427099</td>\n",
              "      <td>0.114783</td>\n",
              "      <td>0.131790</td>\n",
              "      <td>0.128186</td>\n",
              "      <td>1.675652</td>\n",
              "      <td>Control</td>\n",
              "      <td>Memantine</td>\n",
              "      <td>C/S</td>\n",
              "      <td>c-CS-m</td>\n",
              "    </tr>\n",
              "    <tr>\n",
              "      <th>309_2</th>\n",
              "      <td>0.514617</td>\n",
              "      <td>0.689064</td>\n",
              "      <td>0.411770</td>\n",
              "      <td>2.789514</td>\n",
              "      <td>5.685038</td>\n",
              "      <td>0.211636</td>\n",
              "      <td>0.172817</td>\n",
              "      <td>2.292150</td>\n",
              "      <td>0.226972</td>\n",
              "      <td>1.596377</td>\n",
              "      <td>...</td>\n",
              "      <td>0.104315</td>\n",
              "      <td>0.441581</td>\n",
              "      <td>0.111974</td>\n",
              "      <td>0.135103</td>\n",
              "      <td>0.131119</td>\n",
              "      <td>1.743610</td>\n",
              "      <td>Control</td>\n",
              "      <td>Memantine</td>\n",
              "      <td>C/S</td>\n",
              "      <td>c-CS-m</td>\n",
              "    </tr>\n",
              "    <tr>\n",
              "      <th>309_3</th>\n",
              "      <td>0.509183</td>\n",
              "      <td>0.730247</td>\n",
              "      <td>0.418309</td>\n",
              "      <td>2.687201</td>\n",
              "      <td>5.622059</td>\n",
              "      <td>0.209011</td>\n",
              "      <td>0.175722</td>\n",
              "      <td>2.283337</td>\n",
              "      <td>0.230247</td>\n",
              "      <td>1.561316</td>\n",
              "      <td>...</td>\n",
              "      <td>0.106219</td>\n",
              "      <td>0.435777</td>\n",
              "      <td>0.111883</td>\n",
              "      <td>0.133362</td>\n",
              "      <td>0.127431</td>\n",
              "      <td>1.926427</td>\n",
              "      <td>Control</td>\n",
              "      <td>Memantine</td>\n",
              "      <td>C/S</td>\n",
              "      <td>c-CS-m</td>\n",
              "    </tr>\n",
              "    <tr>\n",
              "      <th>309_4</th>\n",
              "      <td>0.442107</td>\n",
              "      <td>0.617076</td>\n",
              "      <td>0.358626</td>\n",
              "      <td>2.466947</td>\n",
              "      <td>4.979503</td>\n",
              "      <td>0.222886</td>\n",
              "      <td>0.176463</td>\n",
              "      <td>2.152301</td>\n",
              "      <td>0.207004</td>\n",
              "      <td>1.595086</td>\n",
              "      <td>...</td>\n",
              "      <td>0.111262</td>\n",
              "      <td>0.391691</td>\n",
              "      <td>0.130405</td>\n",
              "      <td>0.147444</td>\n",
              "      <td>0.146901</td>\n",
              "      <td>1.700563</td>\n",
              "      <td>Control</td>\n",
              "      <td>Memantine</td>\n",
              "      <td>C/S</td>\n",
              "      <td>c-CS-m</td>\n",
              "    </tr>\n",
              "    <tr>\n",
              "      <th>309_5</th>\n",
              "      <td>0.434940</td>\n",
              "      <td>0.617430</td>\n",
              "      <td>0.358802</td>\n",
              "      <td>2.365785</td>\n",
              "      <td>4.718679</td>\n",
              "      <td>0.213106</td>\n",
              "      <td>0.173627</td>\n",
              "      <td>2.134014</td>\n",
              "      <td>0.192158</td>\n",
              "      <td>1.504230</td>\n",
              "      <td>...</td>\n",
              "      <td>0.110694</td>\n",
              "      <td>0.434154</td>\n",
              "      <td>0.118481</td>\n",
              "      <td>0.140314</td>\n",
              "      <td>0.148380</td>\n",
              "      <td>1.839730</td>\n",
              "      <td>Control</td>\n",
              "      <td>Memantine</td>\n",
              "      <td>C/S</td>\n",
              "      <td>c-CS-m</td>\n",
              "    </tr>\n",
              "  </tbody>\n",
              "</table>\n",
              "<p>5 rows × 81 columns</p>\n",
              "</div>"
            ],
            "text/plain": [
              "         DYRK1A_N   ITSN1_N    BDNF_N     NR1_N    NR2A_N    pAKT_N   pBRAF_N  \\\n",
              "MouseID                                                                         \n",
              "309_1    0.503644  0.747193  0.430175  2.816329  5.990152  0.218830  0.177565   \n",
              "309_2    0.514617  0.689064  0.411770  2.789514  5.685038  0.211636  0.172817   \n",
              "309_3    0.509183  0.730247  0.418309  2.687201  5.622059  0.209011  0.175722   \n",
              "309_4    0.442107  0.617076  0.358626  2.466947  4.979503  0.222886  0.176463   \n",
              "309_5    0.434940  0.617430  0.358802  2.365785  4.718679  0.213106  0.173627   \n",
              "\n",
              "         pCAMKII_N   pCREB_N    pELK_N   ...     pCFOS_N     SYP_N  H3AcK18_N  \\\n",
              "MouseID                                  ...                                    \n",
              "309_1     2.373744  0.232224  1.750936   ...    0.108336  0.427099   0.114783   \n",
              "309_2     2.292150  0.226972  1.596377   ...    0.104315  0.441581   0.111974   \n",
              "309_3     2.283337  0.230247  1.561316   ...    0.106219  0.435777   0.111883   \n",
              "309_4     2.152301  0.207004  1.595086   ...    0.111262  0.391691   0.130405   \n",
              "309_5     2.134014  0.192158  1.504230   ...    0.110694  0.434154   0.118481   \n",
              "\n",
              "           EGR1_N  H3MeK4_N    CaNA_N  Genotype  Treatment  Behavior   class  \n",
              "MouseID                                                                       \n",
              "309_1    0.131790  0.128186  1.675652   Control  Memantine       C/S  c-CS-m  \n",
              "309_2    0.135103  0.131119  1.743610   Control  Memantine       C/S  c-CS-m  \n",
              "309_3    0.133362  0.127431  1.926427   Control  Memantine       C/S  c-CS-m  \n",
              "309_4    0.147444  0.146901  1.700563   Control  Memantine       C/S  c-CS-m  \n",
              "309_5    0.140314  0.148380  1.839730   Control  Memantine       C/S  c-CS-m  \n",
              "\n",
              "[5 rows x 81 columns]"
            ]
          },
          "metadata": {
            "tags": []
          },
          "execution_count": 22
        }
      ]
    },
    {
      "metadata": {
        "id": "UfwZDSRAb9EP",
        "colab_type": "text"
      },
      "cell_type": "markdown",
      "source": [
        "This data has missing values.  The site:\n",
        "\n",
        "http://pandas.pydata.org/pandas-docs/stable/missing_data.html\n",
        "\n",
        "has an excellent summary of methods to deal with missing values.  Following the techniques there, create a new data frame `df1` where the missing values in each column are filled with the mean values from the non-missing values."
      ]
    },
    {
      "metadata": {
        "id": "3u95jDYzb9ES",
        "colab_type": "code",
        "colab": {}
      },
      "cell_type": "code",
      "source": [
        "# TODO\n",
        "df1 = df.fillna(df.mean())"
      ],
      "execution_count": 0,
      "outputs": []
    },
    {
      "metadata": {
        "id": "ZzTlHcm6b9Eb",
        "colab_type": "text"
      },
      "cell_type": "markdown",
      "source": [
        "## Binary Classification for Down's Syndrome\n",
        "\n",
        "We will first predict the binary class label in `df1['Genotype']` which indicates if the mouse has Down's syndrome or not.  Get the string values in `df1['Genotype'].values` and convert this to a numeric vector `y` with 0 or 1.  You may wish to use the `np.unique` command with the `return_inverse=True` option."
      ]
    },
    {
      "metadata": {
        "id": "MrF0Oh2mb9Ef",
        "colab_type": "code",
        "colab": {}
      },
      "cell_type": "code",
      "source": [
        "# TODO\n",
        "ytr = df1['Genotype'].values\n",
        "vals, y = np.unique(ytr, return_inverse = True)"
      ],
      "execution_count": 0,
      "outputs": []
    },
    {
      "metadata": {
        "id": "jKyraeFdb9En",
        "colab_type": "text"
      },
      "cell_type": "markdown",
      "source": [
        "As predictors, get all but the last four columns of the dataframes.  Standardize the data matrix and call the standardized matrix `Xs`.  The predictors are the expression levels of the 77 genes. "
      ]
    },
    {
      "metadata": {
        "id": "0yde2c3bb9Er",
        "colab_type": "code",
        "colab": {}
      },
      "cell_type": "code",
      "source": [
        "# TODO\n",
        "# Xs = ...\n",
        "xnames = df1.columns[:-4]\n",
        "X = np.array(df1[xnames].values)\n",
        "Xs = preprocessing.scale(X)"
      ],
      "execution_count": 0,
      "outputs": []
    },
    {
      "metadata": {
        "id": "ZZjqRfiBb9E6",
        "colab_type": "text"
      },
      "cell_type": "markdown",
      "source": [
        "Create a `LogisticRegression` object `logreg` and `fit` the training data. Use `C = 1e5`."
      ]
    },
    {
      "metadata": {
        "id": "vJ_acjLRb9E-",
        "colab_type": "code",
        "colab": {
          "base_uri": "https://localhost:8080/",
          "height": 148
        },
        "outputId": "9c2d4711-9641-4967-9610-49d0b6083367"
      },
      "cell_type": "code",
      "source": [
        "# TODO\n",
        "logreg = linear_model.LogisticRegression(C = 1e5)\n",
        "logreg.fit(Xs,y)"
      ],
      "execution_count": 26,
      "outputs": [
        {
          "output_type": "stream",
          "text": [
            "/usr/local/lib/python3.6/dist-packages/sklearn/linear_model/logistic.py:433: FutureWarning: Default solver will be changed to 'lbfgs' in 0.22. Specify a solver to silence this warning.\n",
            "  FutureWarning)\n"
          ],
          "name": "stderr"
        },
        {
          "output_type": "execute_result",
          "data": {
            "text/plain": [
              "LogisticRegression(C=100000.0, class_weight=None, dual=False,\n",
              "          fit_intercept=True, intercept_scaling=1, max_iter=100,\n",
              "          multi_class='warn', n_jobs=None, penalty='l2', random_state=None,\n",
              "          solver='warn', tol=0.0001, verbose=0, warm_start=False)"
            ]
          },
          "metadata": {
            "tags": []
          },
          "execution_count": 26
        }
      ]
    },
    {
      "metadata": {
        "id": "OSgbumFtb9FL",
        "colab_type": "text"
      },
      "cell_type": "markdown",
      "source": [
        "Measure the accuracy of the classifer.  That is, use the `logreg.predict` function to predict labels `yhat` and measure the fraction of time that the predictions match the true labels. Also, plot the ROC curve, and measure the AUC. Later, we will properly measure the accuracy and AUC on cross-validation data."
      ]
    },
    {
      "metadata": {
        "id": "PaW378BXb9FN",
        "colab_type": "code",
        "colab": {
          "base_uri": "https://localhost:8080/",
          "height": 35
        },
        "outputId": "43496681-a302-4a57-8bdf-3ce88f463a46"
      },
      "cell_type": "code",
      "source": [
        "# TODO\n",
        "yhat = logreg.predict(Xs)\n",
        "acc = np.mean(yhat == y)\n",
        "print('Accuracy is measured as {0:f}'.format(acc))"
      ],
      "execution_count": 27,
      "outputs": [
        {
          "output_type": "stream",
          "text": [
            "Accuracy is measured as 1.000000\n"
          ],
          "name": "stdout"
        }
      ]
    },
    {
      "metadata": {
        "id": "uZij7BP-b9Fd",
        "colab_type": "text"
      },
      "cell_type": "markdown",
      "source": [
        "## Interpreting the weight vector"
      ]
    },
    {
      "metadata": {
        "id": "FAZvo-iNb9Fj",
        "colab_type": "text"
      },
      "cell_type": "markdown",
      "source": [
        "Create a stem plot of the coefficients, `W` in the logistic regression model.  You can get the coefficients from `logreg.coef_`, but you will need to reshape this to a 1D array.  "
      ]
    },
    {
      "metadata": {
        "id": "ON1PPdavb9Fp",
        "colab_type": "code",
        "colab": {
          "base_uri": "https://localhost:8080/",
          "height": 283
        },
        "outputId": "a6af7d4f-14ba-45cc-8b1f-be188fde40a7"
      },
      "cell_type": "code",
      "source": [
        "# TODO\n",
        "W = logreg.coef_\n",
        "W = W.ravel()\n",
        "plt.stem(W)"
      ],
      "execution_count": 28,
      "outputs": [
        {
          "output_type": "execute_result",
          "data": {
            "text/plain": [
              "<StemContainer object of 3 artists>"
            ]
          },
          "metadata": {
            "tags": []
          },
          "execution_count": 28
        },
        {
          "output_type": "display_data",
          "data": {
            "image/png": "[encoded data removed]",
            "text/plain": [
              "<Figure size 432x288 with 1 Axes>"
            ]
          },
          "metadata": {
            "tags": []
          }
        }
      ]
    },
    {
      "metadata": {
        "id": "O_l2m3Xnb9Fv",
        "colab_type": "text"
      },
      "cell_type": "markdown",
      "source": [
        "You should see that `W[i]` is very large for a few components `i`.  These are the genes that are likely to be most involved in Down's Syndrome.  \n",
        "\n",
        "Find the names of the genes for two components `i` where the magnitude of `W[i]` is largest.  "
      ]
    },
    {
      "metadata": {
        "id": "k4S365XRb9Fz",
        "colab_type": "code",
        "colab": {
          "base_uri": "https://localhost:8080/",
          "height": 35
        },
        "outputId": "ec55e872-48de-4e10-8b6a-0895fb50db9d"
      },
      "cell_type": "code",
      "source": [
        "# TODO\n",
        "ind = np.argsort(np.abs(W))\n",
        "i1 = ind[-1]\n",
        "i2 = ind[-2]\n",
        "name1 = xnames[i1]\n",
        "name2 = xnames[i2]\n",
        "print('The names of the genes for two components are {0:s} and {1:s}'.format(name1,name2))"
      ],
      "execution_count": 29,
      "outputs": [
        {
          "output_type": "stream",
          "text": [
            "The names of the genes for two components are ITSN1_N and BRAF_N\n"
          ],
          "name": "stdout"
        }
      ]
    },
    {
      "metadata": {
        "id": "WFk8DRZPb9F8",
        "colab_type": "text"
      },
      "cell_type": "markdown",
      "source": [
        "## Cross Validation\n",
        "\n",
        "The above meaured the accuracy on the training data.  It is more accurate to measure the accuracy on the test data.  Perform 10-fold cross validation and measure the average precision, recall and f1-score, as well as the AUC.  Note, that in performing the cross-validation, you will want to randomly permute the test and training sets using the `shuffle` option.  In this data set, all the samples from each class are bunched together, so shuffling is essential.  Print the mean precision, recall and f1-score and error rate across all the folds."
      ]
    },
    {
      "metadata": {
        "id": "cFnZXHTNb9GB",
        "colab_type": "code",
        "colab": {
          "base_uri": "https://localhost:8080/",
          "height": 91
        },
        "outputId": "24665033-f140-415d-fa3b-b98066d9c03f"
      },
      "cell_type": "code",
      "source": [
        "# TODO\n",
        "import  sklearn.model_selection \n",
        "from sklearn.metrics import precision_recall_fscore_support\n",
        "import warnings\n",
        "\n",
        "# Number of folds\n",
        "nfold = 10\n",
        "\n",
        "# kf = sklearn.model_selection.KFold(...)\n",
        "kf = sklearn.model_selection.KFold(n_splits=nfold,shuffle=True)\n",
        "precision = []\n",
        "recall = []\n",
        "f1 = []\n",
        "error_rate = []\n",
        "\n",
        "\n",
        "for Itr, Its in kf.split(Xs):\n",
        "  # Split the data (Xs,y) into training and test\n",
        "  Xtr = Xs[Itr,:]\n",
        "  ytr = y[Itr]\n",
        "  Xts = Xs[Its,:]\n",
        "  yts = y[Its]\n",
        "\n",
        "  # Fit data on training data\n",
        "  logreg.fit(Xtr,ytr) \n",
        "  yhat = logreg.predict(Xts)\n",
        "\n",
        "  # Measure precision, recall, f1 and error rate\n",
        "  prec,rec,f1s,err_rate = precision_recall_fscore_support(yts,yhat,average = 'binary')\n",
        "  precision.append(prec)\n",
        "  recall.append(rec)\n",
        "  f1.append(f1s)\n",
        "  error_rate.append(np.mean(yts != yhat))\n",
        "        \n",
        "precision=np.mean(precision)\n",
        "recall=np.mean(recall)\n",
        "f1=np.mean(f1)\n",
        "error_mean=np.mean(error_rate)\n",
        "\n",
        "warnings.filterwarnings(\"ignore\",category=FutureWarning)\n",
        "\n",
        "print('Precision = {0:.5f}'.format(precision))\n",
        "print('Recall = {0:.5f}'.format(recall))\n",
        "print('f1 = {0:.5f}'.format(f1))\n",
        "print('Error rate = {0:.5f}'.format(error_mean))\n",
        "\n"
      ],
      "execution_count": 33,
      "outputs": [
        {
          "output_type": "stream",
          "text": [
            "Precision = 0.94740\n",
            "Recall = 0.95571\n",
            "f1 = 0.95106\n",
            "Error rate = 0.04444\n"
          ],
          "name": "stdout"
        }
      ]
    },
    {
      "metadata": {
        "id": "emooTPIYb9GN",
        "colab_type": "text"
      },
      "cell_type": "markdown",
      "source": [
        "## Multi-Class Classification\n",
        "\n",
        "Now use the response variable in `df1['class']`.  This has 8 possible classes.  Use the `np.unique` funtion as before to convert this to a vector `y` with values 0 to 7. "
      ]
    },
    {
      "metadata": {
        "id": "yPc4US00b9GP",
        "colab_type": "code",
        "colab": {}
      },
      "cell_type": "code",
      "source": [
        "# TODO\n",
        "ytr = df1['class'].values\n",
        "vals, y = np.unique(ytr, return_inverse = True)"
      ],
      "execution_count": 0,
      "outputs": []
    },
    {
      "metadata": {
        "id": "tvtChj3Jb9GU",
        "colab_type": "text"
      },
      "cell_type": "markdown",
      "source": [
        "Fit a multi-class logistic model by creating a `LogisticRegression` object, `logreg` and then calling the `logreg.fit` method. In general, you could either use the 'one over rest (ovr)' option or the 'multinomial' option. In this exercise use the default 'ovr' and `C=1`. As an optional exercise, you could also compare the results obtained with these two options. "
      ]
    },
    {
      "metadata": {
        "id": "YYyRm1gFb9Gc",
        "colab_type": "code",
        "colab": {
          "base_uri": "https://localhost:8080/",
          "height": 111
        },
        "outputId": "e6c1ac15-314d-4b26-c693-8a6fd3793013"
      },
      "cell_type": "code",
      "source": [
        "# TODO\n",
        "logreg = linear_model.LogisticRegression()\n",
        "logreg.fit(Xs,y)"
      ],
      "execution_count": 37,
      "outputs": [
        {
          "output_type": "execute_result",
          "data": {
            "text/plain": [
              "LogisticRegression(C=1.0, class_weight=None, dual=False, fit_intercept=True,\n",
              "          intercept_scaling=1, max_iter=100, multi_class='warn',\n",
              "          n_jobs=None, penalty='l2', random_state=None, solver='warn',\n",
              "          tol=0.0001, verbose=0, warm_start=False)"
            ]
          },
          "metadata": {
            "tags": []
          },
          "execution_count": 37
        }
      ]
    },
    {
      "metadata": {
        "id": "YNV64jx8b9Gl",
        "colab_type": "text"
      },
      "cell_type": "markdown",
      "source": [
        "Measure the accuracy on the training data."
      ]
    },
    {
      "metadata": {
        "id": "1ZrYMITQb9Gq",
        "colab_type": "code",
        "colab": {
          "base_uri": "https://localhost:8080/",
          "height": 35
        },
        "outputId": "27fcdfd1-1386-49a2-8049-ef4fd0f86444"
      },
      "cell_type": "code",
      "source": [
        "# TODO\n",
        "yhat = logreg.predict(Xs)\n",
        "acc = np.mean(yhat == y)\n",
        "print('Accuracy is measured as {0:f}'.format(acc))"
      ],
      "execution_count": 38,
      "outputs": [
        {
          "output_type": "stream",
          "text": [
            "Accuracy is measured as 0.999074\n"
          ],
          "name": "stdout"
        }
      ]
    },
    {
      "metadata": {
        "id": "xeDsRn9jb9G1",
        "colab_type": "text"
      },
      "cell_type": "markdown",
      "source": [
        "Now perform 10-fold cross validation, and measure the confusion matrix `C` on the test data in each fold. You can use the `confustion_matrix` method in the `sklearn` package.  Add the confusion matrix counts across all folds and then normalize the rows of the confusion matrix so that they sum to one.  Thus, each element `C[i,j]` will represent the fraction of samples where `yhat==j` given `ytrue==i`.  Print the confusion matrix.  You can use the command\n",
        "\n",
        "    print(np.array_str(C, precision=4, suppress_small=True))\n",
        "    \n",
        "to create a nicely formatted print.  Also print the overall mean and SE of the test accuracy across the folds."
      ]
    },
    {
      "metadata": {
        "id": "0ScddAHMb9G3",
        "colab_type": "code",
        "colab": {
          "base_uri": "https://localhost:8080/",
          "height": 183
        },
        "outputId": "9f58b1f8-a12a-4e99-9fbc-67edbdc5e88e"
      },
      "cell_type": "code",
      "source": [
        "from sklearn.metrics import confusion_matrix\n",
        "from sklearn.model_selection import KFold\n",
        "\n",
        "logreg = linear_model.LogisticRegression()\n",
        "n_max = np.max(y)\n",
        "C = np.zeros((n_max+1,n_max+1))\n",
        "\n",
        "# Number of folds\n",
        "nfold = 10\n",
        "\n",
        "# kf = sklearn.model_selection.KFold(...)\n",
        "kf = sklearn.model_selection.KFold(n_splits=nfold,shuffle=True)\n",
        "error_rate = np.zeros(nfold)\n",
        "\n",
        "for ifold, Ind in enumerate(kf.split(Xs)):\n",
        "  \n",
        "  Itr, Its = Ind\n",
        "  Xtr = Xs[Itr,:]\n",
        "  ytr = y[Itr]\n",
        "  Xts = Xs[Its,:]\n",
        "  yts = y[Its]\n",
        "\n",
        "  # Fit data on training data\n",
        "  logreg.fit(Xtr,ytr) \n",
        "  yhat = logreg.predict(Xts)\n",
        "  \n",
        "  C += confusion_matrix(yts,yhat)\n",
        "  error_rate[ifold] = np.mean(yhat != yts)\n",
        "\n",
        "# Normalization\n",
        "C_sum = np.sum(C,1)\n",
        "C = C/C_sum[np.newaxis,:]\n",
        "\n",
        "print(np.array_str(C, precision=4, suppress_small=True))\n",
        "\n",
        "error_mean = np.mean(error_rate)\n",
        "error_se = np.std(error_rate)/np.sqrt(nfold - 1)\n",
        "print(\"Error rate = %12.4e, SE = %12.4e\" %(error_mean, error_se))\n"
      ],
      "execution_count": 41,
      "outputs": [
        {
          "output_type": "stream",
          "text": [
            "[[0.9667 0.0074 0.0067 0.     0.0222 0.     0.     0.    ]\n",
            " [0.02   0.963  0.     0.     0.0074 0.0095 0.     0.    ]\n",
            " [0.     0.     0.9933 0.     0.     0.     0.     0.0074]\n",
            " [0.0067 0.     0.     0.9926 0.     0.     0.     0.    ]\n",
            " [0.0067 0.0148 0.     0.     0.9778 0.     0.     0.    ]\n",
            " [0.     0.     0.     0.     0.     1.     0.     0.    ]\n",
            " [0.     0.     0.     0.     0.     0.     1.     0.    ]\n",
            " [0.     0.     0.     0.     0.     0.     0.     1.    ]]\n",
            "Error rate =   1.3889e-02, SE =   2.4884e-03\n"
          ],
          "name": "stdout"
        }
      ]
    },
    {
      "metadata": {
        "id": "DmGP0hOlb9HL",
        "colab_type": "text"
      },
      "cell_type": "markdown",
      "source": [
        "Re-run the logistic regression on the entire training data and get the weight coefficients.  This should be a 8 x 77 matrix.  Create a stem plot of the first row of this matrix to see the coefficients on each of the genes for the first class."
      ]
    },
    {
      "metadata": {
        "id": "bFhvBBdYb9HR",
        "colab_type": "code",
        "colab": {
          "base_uri": "https://localhost:8080/",
          "height": 283
        },
        "outputId": "58da1a7d-c935-43c1-9ff3-be7ffbaeee21"
      },
      "cell_type": "code",
      "source": [
        "# TODO\n",
        "logreg = linear_model.LogisticRegression()\n",
        "logreg.fit(Xs,y)\n",
        "W = logreg.coef_\n",
        "\n",
        "plt.stem(W[0,:])"
      ],
      "execution_count": 42,
      "outputs": [
        {
          "output_type": "execute_result",
          "data": {
            "text/plain": [
              "<StemContainer object of 3 artists>"
            ]
          },
          "metadata": {
            "tags": []
          },
          "execution_count": 42
        },
        {
          "output_type": "display_data",
          "data": {
            "image/png": "[encoded data removed]",
            "text/plain": [
              "<Figure size 432x288 with 1 Axes>"
            ]
          },
          "metadata": {
            "tags": []
          }
        }
      ]
    },
    {
      "metadata": {
        "collapsed": true,
        "id": "TFApfSVqb9Hh",
        "colab_type": "text"
      },
      "cell_type": "markdown",
      "source": [
        "## L1-Regularization\n",
        "\n",
        "Graduate students only complete this section.\n",
        "\n",
        "In most genetic problems, only a limited number of the tested genes are likely influence any particular attribute.  Hence, we would expect that the weight coefficients in the logistic regression model should be sparse.  That is, they should be zero on any gene that plays no role in the particular attribute of interest.  Genetic analysis commonly imposes sparsity by adding an l1-penalty term.  Read the `sklearn` [documentation](http://scikit-learn.org/stable/modules/generated/sklearn.linear_model.LogisticRegression.html) on the `LogisticRegression` class to see how to set the l1-penalty and the inverse regularization strength, `C`.\n",
        "\n",
        "Using the model selection strategies from the [prostate cancer analysis demo](../unit03_model_sel/demo03_2_prostate.ipynb), use K-fold cross validation to select an appropriate inverse regularization strength.  \n",
        "* Use 10-fold cross validation \n",
        "* You should select around 20 values of `C`.  It is up to you to find a good range.\n",
        "* For each C and each fold, you should compute the classification error rate \n",
        "* For each C and each fold, you should also determine the nubmer of non-zero coefficients for the first class. For this purpse, you can assume coefficient with magnitude <0.01 as zero."
      ]
    },
    {
      "metadata": {
        "id": "N3Gac8jDb9Hj",
        "colab_type": "code",
        "colab": {
          "base_uri": "https://localhost:8080/",
          "height": 202
        },
        "outputId": "e2417554-3116-493b-87cb-df09b686dfba"
      },
      "cell_type": "code",
      "source": [
        "# TODO\n",
        "C_vals = 20\n",
        "C_test = np.logspace(-1,3,C_vals)\n",
        "\n",
        "# Number of folds\n",
        "nfold = 10\n",
        "\n",
        "# kf = sklearn.model_selection.KFold(...)\n",
        "kf = sklearn.model_selection.KFold(n_splits=nfold,shuffle=True)\n",
        "error_rate = np.zeros((C_vals,nfold))\n",
        "num_nonzerocoef = np.zeros((C_vals,nfold))\n",
        "\n",
        "logreg = linear_model.LogisticRegression(penalty = 'l1',warm_start=True)\n",
        "\n",
        "for ifold, Ind in enumerate(kf.split(Xs)):\n",
        "  \n",
        "  Itr, Its = Ind\n",
        "  Xtr = Xs[Itr,:]\n",
        "  ytr = y[Itr]\n",
        "  Xts = Xs[Its,:]\n",
        "  yts = y[Its]\n",
        "  \n",
        "  for ipen, c in enumerate(C_test):\n",
        "    logreg.C = c\n",
        "    \n",
        "    # Fit data on training data\n",
        "    logreg.fit(Xtr,ytr) \n",
        "    yhat = logreg.predict(Xts)\n",
        "\n",
        "    error_rate[ipen,ifold] = np.mean(yhat != yts)\n",
        "    num_nonzerocoef[ipen,ifold]=np.sum(abs(logreg.coef_)>0.01)\n",
        "\n",
        "  print(\"fold = %d \" % ifold)"
      ],
      "execution_count": 53,
      "outputs": [
        {
          "output_type": "stream",
          "text": [
            "fold = 0 \n",
            "fold = 1 \n",
            "fold = 2 \n",
            "fold = 3 \n",
            "fold = 4 \n",
            "fold = 5 \n",
            "fold = 6 \n",
            "fold = 7 \n",
            "fold = 8 \n",
            "fold = 9 \n"
          ],
          "name": "stdout"
        }
      ]
    },
    {
      "metadata": {
        "id": "vS8id0l2b9Hu",
        "colab_type": "text"
      },
      "cell_type": "markdown",
      "source": [
        "Now compute the mean and standard error on the error rate for each `C` and plot the results (Use `errorbar()` method).  Also determine and print the minimum test error rate and corresponding C value. "
      ]
    },
    {
      "metadata": {
        "id": "MzVXf9Etb9Hw",
        "colab_type": "code",
        "colab": {
          "base_uri": "https://localhost:8080/",
          "height": 301
        },
        "outputId": "6f69d9e7-8abe-48ad-b4b3-a2ae94094503"
      },
      "cell_type": "code",
      "source": [
        "# TODO\n",
        "error_mean = np.mean(error_rate,axis=1)\n",
        "num_nonzerocoef_mean = np.mean(num_nonzerocoef, axis=1)\n",
        "error_se = np.std(error_rate,axis=1)/np.sqrt(nfold-1)\n",
        "plt.errorbar(np.log10(C_test),error_mean,marker='o',yerr=error_se)\n",
        "plt.ylim([0,0.02])\n",
        "plt.grid()\n",
        "plt.xlabel('log10(C)')\n",
        "plt.ylabel('Error rate')\n",
        "\n",
        "imin = np.argmin(error_mean)\n",
        "print(\"Minimum test error rate = %12.4e, SE = %12.4e\" %(error_mean[imin], error_se[imin]))\n"
      ],
      "execution_count": 54,
      "outputs": [
        {
          "output_type": "stream",
          "text": [
            "Minimum test error rate =   8.3333e-03, SE =   2.9117e-03\n"
          ],
          "name": "stdout"
        },
        {
          "output_type": "display_data",
          "data": {
            "image/png": "[encoded data removed]",
            "text/plain": [
              "<Figure size 432x288 with 1 Axes>"
            ]
          },
          "metadata": {
            "tags": []
          }
        }
      ]
    },
    {
      "metadata": {
        "id": "30SsX55Db9H4",
        "colab_type": "text"
      },
      "cell_type": "markdown",
      "source": [
        "We see that the minimum error rate is significantly below the classifier that did not use the l1-penalty.  Use the one-standard error rule to determine the optimal `C` and the corresponding test error rate. Note that because `C` is inversely proportional to the regularization strength, you want to select a `C` as *small* as possible while meeting the error target!"
      ]
    },
    {
      "metadata": {
        "id": "WsHUd2cGb9H_",
        "colab_type": "code",
        "colab": {
          "base_uri": "https://localhost:8080/",
          "height": 35
        },
        "outputId": "a8086587-e53b-40e2-a74b-430c7bd341a6"
      },
      "cell_type": "code",
      "source": [
        "# TODO\n",
        "error_tgt = error_mean[imin] + error_se[imin]\n",
        "iopt = np.where(error_mean < error_tgt)[0][0]\n",
        "C_opt = C_test[iopt]\n",
        "\n",
        "print(\"Optimal C=%12.4e\" % C_opt)"
      ],
      "execution_count": 55,
      "outputs": [
        {
          "output_type": "stream",
          "text": [
            "Optimal C=  6.9519e-01\n"
          ],
          "name": "stdout"
        }
      ]
    },
    {
      "metadata": {
        "id": "v1Bj7S1Eb9IY",
        "colab_type": "text"
      },
      "cell_type": "markdown",
      "source": [
        "**Question:** How does the test error rate compare with the classifier that did not use the l1-penalty? Explain why."
      ]
    },
    {
      "metadata": {
        "id": "k_HMg_wJb9Ib",
        "colab_type": "text"
      },
      "cell_type": "markdown",
      "source": [
        "**Type Answer Here:**\n"
      ]
    },
    {
      "metadata": {
        "id": "2f_Cq-Y1WSV0",
        "colab_type": "text"
      },
      "cell_type": "markdown",
      "source": [
        "The error rate is significantly below the classifier that did not use the l1 penalty. Since l1 penalty uses Lasso Regression, which performs variable selection and regularization to enhance the prediction accuracy."
      ]
    },
    {
      "metadata": {
        "id": "TBFf0bG7b9Ie",
        "colab_type": "text"
      },
      "cell_type": "markdown",
      "source": [
        "Now plot the nubmer of non-zero coefficients for the first class for different C values. Also determine and print the number of non-zero coefficients corresponding to C_opt."
      ]
    },
    {
      "metadata": {
        "id": "KLqVlXcrb9Ij",
        "colab_type": "code",
        "colab": {
          "base_uri": "https://localhost:8080/",
          "height": 297
        },
        "outputId": "ab4f76bf-8f18-4443-fb67-40190c694f63"
      },
      "cell_type": "code",
      "source": [
        "# TODO\n",
        "num_nonzerocoef_mean = np.mean(num_nonzerocoef, axis=1)\n",
        "plt.plot(np.log10(C_test),num_nonzerocoef_mean)\n",
        "\n",
        "plt.grid()\n",
        "plt.xlabel('log10(C)')\n",
        "plt.ylabel('Num of nonzero coeff.')\n",
        "\n",
        "print(\"The number of non-zero coefficients for the optimal C = %f\" % num_nonzerocoef_mean[iopt])"
      ],
      "execution_count": 56,
      "outputs": [
        {
          "output_type": "stream",
          "text": [
            "The number of non-zero coefficients for the optimal C = 263.800000\n"
          ],
          "name": "stdout"
        },
        {
          "output_type": "display_data",
          "data": {
            "image/png": "[encoded data removed]",
            "text/plain": [
              "<Figure size 432x288 with 1 Axes>"
            ]
          },
          "metadata": {
            "tags": []
          }
        }
      ]
    },
    {
      "metadata": {
        "id": "wZRR0j1Jb9Im",
        "colab_type": "text"
      },
      "cell_type": "markdown",
      "source": [
        "For the optimal `C`, fit the model on the entire training data with l1 regularization. Find the resulting weight matrix, `W_l1`.  Plot the first row of this weight matrix and compare it to the first row of the weight matrix without the regularization.  You should see that, with l1-regularization, the weight matrix is much more sparse and hence the roles of particular genes are more clearly visible. Please also compare the accuracy for the training data using optimal `C` with the previous results not using LASSO regularization. Do you expect the accuracy to improve?"
      ]
    },
    {
      "metadata": {
        "id": "2G-BnnAob9Io",
        "colab_type": "code",
        "colab": {
          "base_uri": "https://localhost:8080/",
          "height": 516
        },
        "outputId": "062950a1-d39a-4d2b-cd49-69b562818716"
      },
      "cell_type": "code",
      "source": [
        "# TODO\n",
        "logreg = linear_model.LogisticRegression(C=C_opt,penalty='l1')\n",
        "logreg.C=C_opt\n",
        "logreg.fit(Xs,y)\n",
        "\n",
        "W_l1 = logreg.coef_\n",
        "\n",
        "plt.figure(figsize=(8,8))\n",
        "plt.subplot(2,1,1)\n",
        "plt.stem(W[0,:])\n",
        "plt.title('No LASSO regulation')\n",
        "plt.subplot(2,1,2)\n",
        "plt.stem(W_l1[0,:])\n",
        "plt.title('LASSO regulation')"
      ],
      "execution_count": 51,
      "outputs": [
        {
          "output_type": "execute_result",
          "data": {
            "text/plain": [
              "Text(0.5, 1.0, 'LASSO regulation')"
            ]
          },
          "metadata": {
            "tags": []
          },
          "execution_count": 51
        },
        {
          "output_type": "display_data",
          "data": {
            "image/png": "[encoded data removed]",
            "text/plain": [
              "<Figure size 576x576 with 2 Axes>"
            ]
          },
          "metadata": {
            "tags": []
          }
        }
      ]
    },
    {
      "metadata": {
        "id": "tIE-K3XYYUx_",
        "colab_type": "code",
        "colab": {}
      },
      "cell_type": "code",
      "source": [
        "Yes, the accuracy is imporved."
      ],
      "execution_count": 0,
      "outputs": []
    }
  ]
}